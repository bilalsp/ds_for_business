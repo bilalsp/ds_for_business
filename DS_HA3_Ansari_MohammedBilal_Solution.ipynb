{
 "cells": [
  {
   "cell_type": "code",
   "execution_count": 1,
   "metadata": {},
   "outputs": [],
   "source": [
    "import pandas as pd\n",
    "import numpy as np\n",
    "import seaborn as sns\n",
    "import matplotlib.pyplot as plt\n",
    "from sklearn.ensemble import RandomForestRegressor\n",
    "from sklearn.metrics import mean_absolute_error\n",
    "from sklearn.model_selection import GridSearchCV\n",
    "import joblib\n",
    "import warnings"
   ]
  },
  {
   "cell_type": "code",
   "execution_count": 2,
   "metadata": {},
   "outputs": [],
   "source": [
    "warnings.filterwarnings('ignore')"
   ]
  },
  {
   "cell_type": "code",
   "execution_count": 3,
   "metadata": {},
   "outputs": [],
   "source": [
    "DATA_PATH = 'data_2/'"
   ]
  },
  {
   "cell_type": "markdown",
   "metadata": {},
   "source": [
    "## Task-1 Exploratory Data Analysis & Feature generation"
   ]
  },
  {
   "cell_type": "code",
   "execution_count": 4,
   "metadata": {},
   "outputs": [],
   "source": [
    "stores = pd.read_csv(DATA_PATH+'stores.csv')\n",
    "train = pd.read_csv(DATA_PATH+'train.csv', parse_dates=['Date'])\n",
    "features = pd.read_csv(DATA_PATH+'features.csv', parse_dates=['Date'])"
   ]
  },
  {
   "cell_type": "code",
   "execution_count": 5,
   "metadata": {},
   "outputs": [],
   "source": [
    "data = pd.merge(pd.merge(train, features), stores)"
   ]
  },
  {
   "cell_type": "code",
   "execution_count": 6,
   "metadata": {},
   "outputs": [],
   "source": [
    "data['Week_of_Year'] = data.Date.dt.week\n",
    "data['Year'] = data.Date.dt.year"
   ]
  },
  {
   "cell_type": "code",
   "execution_count": 7,
   "metadata": {},
   "outputs": [],
   "source": [
    "data = data.sort_values(by=['Date','Store','Dept']).reset_index(drop=True)"
   ]
  },
  {
   "cell_type": "code",
   "execution_count": 8,
   "metadata": {},
   "outputs": [],
   "source": [
    "local_train, local_test = data.iloc[:305982], data.loc[(data.Date.dt.year==2012) & (data.Week_of_Year>=5)]"
   ]
  },
  {
   "cell_type": "markdown",
   "metadata": {},
   "source": [
    "#### 1.1 What is the store (Store ID) with the biggest total sales in September 2011; smallest total sales in January 2011? (two numbers divided by a comma, e.g. 1, 2)?"
   ]
  },
  {
   "cell_type": "code",
   "execution_count": 9,
   "metadata": {},
   "outputs": [
    {
     "data": {
      "text/plain": [
       "4"
      ]
     },
     "execution_count": 9,
     "metadata": {},
     "output_type": "execute_result"
    }
   ],
   "source": [
    "data[(data.Date.dt.year==2011) & (data.Date.dt.month==9)].groupby(by='Store').Weekly_Sales.sum().idxmax()"
   ]
  },
  {
   "cell_type": "code",
   "execution_count": 10,
   "metadata": {},
   "outputs": [
    {
     "data": {
      "text/plain": [
       "33"
      ]
     },
     "execution_count": 10,
     "metadata": {},
     "output_type": "execute_result"
    }
   ],
   "source": [
    "data[(data.Date.dt.year==2011) & (data.Date.dt.month==1)].groupby(by='Store').Weekly_Sales.sum().idxmin()"
   ]
  },
  {
   "cell_type": "markdown",
   "metadata": {},
   "source": [
    "#### 1.2 Did the store with the largest sales in March change from 2010 to 2011; from 2011 to 2012?"
   ]
  },
  {
   "cell_type": "code",
   "execution_count": 11,
   "metadata": {},
   "outputs": [
    {
     "data": {
      "text/plain": [
       "14"
      ]
     },
     "execution_count": 11,
     "metadata": {},
     "output_type": "execute_result"
    }
   ],
   "source": [
    "data[(data.Date.dt.year==2010) & (data.Date.dt.month==3)].groupby(by='Store').Weekly_Sales.sum().idxmax()"
   ]
  },
  {
   "cell_type": "code",
   "execution_count": 12,
   "metadata": {},
   "outputs": [
    {
     "data": {
      "text/plain": [
       "4"
      ]
     },
     "execution_count": 12,
     "metadata": {},
     "output_type": "execute_result"
    }
   ],
   "source": [
    "data[(data.Date.dt.year==2011) & (data.Date.dt.month==3)].groupby(by='Store').Weekly_Sales.sum().idxmax()"
   ]
  },
  {
   "cell_type": "code",
   "execution_count": 13,
   "metadata": {},
   "outputs": [
    {
     "data": {
      "text/plain": [
       "4"
      ]
     },
     "execution_count": 13,
     "metadata": {},
     "output_type": "execute_result"
    }
   ],
   "source": [
    "data[(data.Date.dt.year==2012) & (data.Date.dt.month==3)].groupby(by='Store').Weekly_Sales.sum().idxmax()"
   ]
  },
  {
   "cell_type": "markdown",
   "metadata": {},
   "source": [
    "#### 1.3 How many departments have substantially larger sales during holidays (>= 200%) compared to regular weeks (averaged over all train period, over all stores)? (single integer number, e.g. 1)"
   ]
  },
  {
   "cell_type": "code",
   "execution_count": 14,
   "metadata": {},
   "outputs": [
    {
     "data": {
      "text/plain": [
       "Int64Index([47, 72, 77, 99], dtype='int64', name='Dept')"
      ]
     },
     "execution_count": 14,
     "metadata": {},
     "output_type": "execute_result"
    }
   ],
   "source": [
    "holiday = local_train[local_train.IsHoliday==True].groupby('Dept').Weekly_Sales.mean()\n",
    "regular = local_train[local_train.IsHoliday==False].groupby('Dept').Weekly_Sales.mean()\n",
    "df = pd.DataFrame([holiday,regular], index=['holiday_week','regular_week']).T\n",
    "larger_sales = df.index[df.holiday_week >= 2*df.regular_week]\n",
    "larger_sales"
   ]
  },
  {
   "cell_type": "markdown",
   "metadata": {},
   "source": [
    "#### 1.4 How many departments have substantially smaller sales during holidays (<=50%) compared to regular weeks (averaged over all train period, over all stores)? (single integer number, e.g. 1)"
   ]
  },
  {
   "cell_type": "code",
   "execution_count": 15,
   "metadata": {},
   "outputs": [
    {
     "data": {
      "text/plain": [
       "Int64Index([16, 43, 56], dtype='int64', name='Dept')"
      ]
     },
     "execution_count": 15,
     "metadata": {},
     "output_type": "execute_result"
    }
   ],
   "source": [
    "holiday = local_train[local_train.IsHoliday==True].groupby('Dept').Weekly_Sales.mean()\n",
    "regular = local_train[local_train.IsHoliday==False].groupby('Dept').Weekly_Sales.mean()\n",
    "df = pd.DataFrame([holiday,regular], index=['holiday_week','regular_week']).T\n",
    "smaller_sales = df.index[df.holiday_week <= 0.5*df.regular_week]\n",
    "smaller_sales"
   ]
  },
  {
   "cell_type": "markdown",
   "metadata": {},
   "source": [
    "#### 1.5 Generate new attribute `Department_Type` (1,2,3) <...> How many departments of each type do you have? (3 integer numbers, divided by comma, e.g. 1, 2, 3)"
   ]
  },
  {
   "cell_type": "code",
   "execution_count": 16,
   "metadata": {},
   "outputs": [],
   "source": [
    "local_train = local_train.assign(Department_Type=2*np.ones((local_train.shape[0],)))\n",
    "local_train.loc[local_train.Dept.isin(smaller_sales),'Department_Type'] = 1\n",
    "local_train.loc[local_train.Dept.isin(larger_sales),'Department_Type'] = 3"
   ]
  },
  {
   "cell_type": "code",
   "execution_count": 17,
   "metadata": {},
   "outputs": [
    {
     "data": {
      "text/plain": [
       "Department_Type\n",
       "1.0     3\n",
       "2.0    74\n",
       "3.0     4\n",
       "Name: Dept, dtype: int64"
      ]
     },
     "execution_count": 17,
     "metadata": {},
     "output_type": "execute_result"
    }
   ],
   "source": [
    "local_train.groupby('Dept').first().reset_index().groupby('Department_Type').Dept.count()"
   ]
  },
  {
   "cell_type": "code",
   "execution_count": 18,
   "metadata": {},
   "outputs": [],
   "source": [
    "local_test = local_test.assign(Department_Type=2*np.ones((local_test.shape[0],)))\n",
    "local_test.loc[local_test.Dept.isin(smaller_sales),'Department_Type'] = 1\n",
    "local_test.loc[local_test.Dept.isin(larger_sales),'Department_Type'] = 3"
   ]
  },
  {
   "cell_type": "markdown",
   "metadata": {},
   "source": [
    "#### 1.6 Compute correlation between total `Weekly_Sales` (in millions) over all training set and `Size`. (single number rounded to 3 decimal places, e.g. 0.001)"
   ]
  },
  {
   "cell_type": "code",
   "execution_count": 19,
   "metadata": {},
   "outputs": [
    {
     "data": {
      "text/plain": [
       "0.719"
      ]
     },
     "execution_count": 19,
     "metadata": {},
     "output_type": "execute_result"
    }
   ],
   "source": [
    "df_store_size = local_train.groupby('Size').Weekly_Sales.sum().reset_index()\n",
    "df_store_size.Weekly_Sales = df_store_size.Weekly_Sales/10**6\n",
    "df_store_size.Weekly_Sales.corr(df_store_size.Size).round(3)"
   ]
  },
  {
   "cell_type": "markdown",
   "metadata": {},
   "source": [
    "#### 1.7 Plot a scatter plot total (over all training set) `Weekly_Sales` (in millions) in a store vs `Size` of the store."
   ]
  },
  {
   "cell_type": "code",
   "execution_count": 20,
   "metadata": {},
   "outputs": [
    {
     "data": {
      "text/plain": [
       "Text(0.5, 1.0, 'Scatter Plot between Weekly_Sales (in millions) and Size')"
      ]
     },
     "execution_count": 20,
     "metadata": {},
     "output_type": "execute_result"
    },
    {
     "data": {
      "image/png": "[encoded data removed]",
      "text/plain": [
       "<Figure size 432x288 with 1 Axes>"
      ]
     },
     "metadata": {
      "needs_background": "light"
     },
     "output_type": "display_data"
    }
   ],
   "source": [
    "ax = sns.scatterplot(x=\"Size\", y=\"Weekly_Sales\", data=df_store_size)\n",
    "ax.set_title('Scatter Plot between Weekly_Sales (in millions) and Size')"
   ]
  },
  {
   "cell_type": "markdown",
   "metadata": {},
   "source": [
    "#### 1.8 Plot a boxplot of `Weekly_Sales` for different store types (3 boxes, one for every Type). For this plot filter out all `Weekly_Sales` bigger than 70000."
   ]
  },
  {
   "cell_type": "code",
   "execution_count": 21,
   "metadata": {},
   "outputs": [
    {
     "data": {
      "text/plain": [
       "Text(0.5, 1.0, 'Boxplot of Weekly_Sales for different store types')"
      ]
     },
     "execution_count": 21,
     "metadata": {},
     "output_type": "execute_result"
    },
    {
     "data": {
      "image/png": "[encoded data removed]",
      "text/plain": [
       "<Figure size 720x432 with 1 Axes>"
      ]
     },
     "metadata": {
      "needs_background": "light"
     },
     "output_type": "display_data"
    }
   ],
   "source": [
    "fig = plt.figure(figsize=(10,6))\n",
    "ax = sns.boxplot(x=\"Type\", y=\"Weekly_Sales\", data=local_train[local_train.Weekly_Sales<=70000].loc[:,['Weekly_Sales','Type']])\n",
    "ax.set_title('Boxplot of Weekly_Sales for different store types')"
   ]
  },
  {
   "cell_type": "markdown",
   "metadata": {},
   "source": [
    "#### 1.9 Find Stores with Type == `B` which have total `Weekly_Sales`, (in millions) over all training set, more than 80% percentile of `Weekly_Sales` of stores with Type == `A`. (List of store IDs, e.g. 1, 2, 3)"
   ]
  },
  {
   "cell_type": "code",
   "execution_count": 22,
   "metadata": {},
   "outputs": [
    {
     "data": {
      "text/plain": [
       "Int64Index([1, 2, 4, 6, 11, 13, 14, 19, 20, 24, 27, 28, 31, 32, 39, 41], dtype='int64', name='Store')"
      ]
     },
     "execution_count": 22,
     "metadata": {},
     "output_type": "execute_result"
    }
   ],
   "source": [
    "type_A = local_train[local_train.Type=='B'].groupby('Store').Weekly_Sales.sum()/10**6\n",
    "type_B = local_train[local_train.Type=='A'].groupby('Store').Weekly_Sales.sum()/10**6\n",
    "type_B.where(type_B > type_A.quantile(0.8)).dropna().index"
   ]
  },
  {
   "cell_type": "markdown",
   "metadata": {},
   "source": [
    "#### 1.10 Generate new attribute `Total_Sales_Store_Type`. 5 (from 1 to 5) groups generated using percentiles (0<=p<20, 20<=p<40, 40<=p<60, 60<=p<80, 80<=p<=100) of total `Weekly_Sales` (in millions) over all training set. How many stores of each type do you have? (5 numbers from 1 to 5 type). "
   ]
  },
  {
   "cell_type": "code",
   "execution_count": 23,
   "metadata": {},
   "outputs": [],
   "source": [
    "total_sales = local_train.groupby('Store').Weekly_Sales.sum()/10**6\n",
    "p1 = total_sales.quantile(0.2)\n",
    "group_1 = dict.fromkeys(total_sales.where(total_sales<p1).dropna().index,1)\n",
    "p2 = total_sales.quantile(0.4)\n",
    "group_2 = dict.fromkeys(total_sales.where((total_sales>=p1)&(total_sales<p2)).dropna().index,2)\n",
    "p3 = total_sales.quantile(0.6)\n",
    "group_3 = dict.fromkeys(total_sales.where((total_sales>=p2)&(total_sales<p3)).dropna().index,3)\n",
    "p4 = total_sales.quantile(0.8)\n",
    "group_4 = dict.fromkeys(total_sales.where((total_sales>=p3)&(total_sales<p4)).dropna().index,4)\n",
    "p5 = total_sales.quantile(1.0)\n",
    "group_5 = dict.fromkeys(total_sales.where((total_sales>=p4)&(total_sales<=p5)).dropna().index,5)"
   ]
  },
  {
   "cell_type": "code",
   "execution_count": 24,
   "metadata": {},
   "outputs": [
    {
     "name": "stdout",
     "output_type": "stream",
     "text": [
      "Group-1 9\n",
      "Group-2 9\n",
      "Group-3 9\n",
      "Group-4 9\n",
      "Group-5 9\n"
     ]
    }
   ],
   "source": [
    "print('Group-1', len(group_1))\n",
    "print('Group-2', len(group_2))\n",
    "print('Group-3', len(group_3))\n",
    "print('Group-4', len(group_4))\n",
    "print('Group-5', len(group_5))"
   ]
  },
  {
   "cell_type": "code",
   "execution_count": 25,
   "metadata": {},
   "outputs": [],
   "source": [
    "local_train.loc[:,'Total_Sales_Store_Type'] = local_train.Store.map({**group_1,**group_2,**group_3,**group_4,**group_5}) "
   ]
  },
  {
   "cell_type": "code",
   "execution_count": 26,
   "metadata": {},
   "outputs": [],
   "source": [
    "local_test.loc[:,'Total_Sales_Store_Type'] = local_test.Store.map({**group_1,**group_2,**group_3,**group_4,**group_5}) "
   ]
  },
  {
   "cell_type": "markdown",
   "metadata": {},
   "source": [
    "#### 1.11 How many holidays’ weeks are in the train set; test set? (two integer numbers, divided by comma)"
   ]
  },
  {
   "cell_type": "code",
   "execution_count": 27,
   "metadata": {},
   "outputs": [
    {
     "data": {
      "text/plain": [
       "(8,)"
      ]
     },
     "execution_count": 27,
     "metadata": {},
     "output_type": "execute_result"
    }
   ],
   "source": [
    "local_train[local_train.IsHoliday==True].groupby(['Date']).IsHoliday.count().shape"
   ]
  },
  {
   "cell_type": "code",
   "execution_count": 28,
   "metadata": {},
   "outputs": [
    {
     "data": {
      "text/plain": [
       "(2,)"
      ]
     },
     "execution_count": 28,
     "metadata": {},
     "output_type": "execute_result"
    }
   ],
   "source": [
    "local_test[local_test.IsHoliday==True].groupby(['Date']).IsHoliday.count().shape"
   ]
  },
  {
   "cell_type": "markdown",
   "metadata": {},
   "source": [
    "#### 1.12 Generate 5 separate attributes (nominal True-False or 1-0): `Is_SuperBowl`, <...>. How many `Other_holidays` weeks do you have in the whole training set?"
   ]
  },
  {
   "cell_type": "code",
   "execution_count": 29,
   "metadata": {},
   "outputs": [],
   "source": [
    "local_train = local_train.assign(Is_SuperBowl=0)\n",
    "local_train = local_train.assign(Is_BlackFriday=0)\n",
    "local_train = local_train.assign(Is_Christmas=0)\n",
    "local_train = local_train.assign(Other_holidays=0)\n",
    "local_train = local_train.assign(Regular_weeks=0)\n",
    "\n",
    "local_test = local_test.assign(Is_SuperBowl=0)\n",
    "local_test = local_test.assign(Is_BlackFriday=0)\n",
    "local_test = local_test.assign(Is_Christmas=0)\n",
    "local_test = local_test.assign(Other_holidays=0)\n",
    "local_test = local_test.assign(Regular_weeks=0)"
   ]
  },
  {
   "cell_type": "code",
   "execution_count": 30,
   "metadata": {},
   "outputs": [],
   "source": [
    "SuperBowl = pd.Series(['2010-02-12', '2011-02-11', '2012-02-10', '2013-02-08'])\n",
    "BlackFriday = pd.Series(['2010-11-26', '2011-11-25', '2012-11-23', '2013-11-29'])\n",
    "Christmas = pd.Series(['2010-12-31', '2011-12-30', '2012-12-28', '2013-12-27'])\n",
    "Not_Other_holidays = pd.concat([SuperBowl,BlackFriday,Christmas]).reset_index(drop=True)"
   ]
  },
  {
   "cell_type": "code",
   "execution_count": 31,
   "metadata": {},
   "outputs": [],
   "source": [
    "local_train.loc[local_train.Date.isin(SuperBowl),'Is_SuperBowl'] = 1\n",
    "local_train.loc[local_train.Date.isin(BlackFriday),'Is_BlackFriday'] = 1\n",
    "local_train.loc[local_train.Date.isin(Christmas),'Is_Christmas'] = 1\n",
    "local_train.loc[(~local_train.Date.isin(Not_Other_holidays))&(local_train.IsHoliday),'Other_holidays'] = 1\n",
    "local_train.loc[(~local_train.Date.isin(Not_Other_holidays))&(~local_train.IsHoliday),'Regular_weeks'] = 1\n",
    "\n",
    "local_test.loc[local_test.Date.isin(SuperBowl),'Is_SuperBowl'] = 1\n",
    "local_test.loc[local_test.Date.isin(BlackFriday),'Is_BlackFriday'] = 1\n",
    "local_test.loc[local_test.Date.isin(Christmas),'Is_Christmas'] = 1\n",
    "local_test.loc[(~local_test.Date.isin(Not_Other_holidays))&(local_test.IsHoliday),'Other_holidays'] = 1\n",
    "local_test.loc[(~local_test.Date.isin(Not_Other_holidays))&(~local_test.IsHoliday),'Regular_weeks'] = 1"
   ]
  },
  {
   "cell_type": "code",
   "execution_count": 32,
   "metadata": {},
   "outputs": [
    {
     "data": {
      "text/plain": [
       "3"
      ]
     },
     "execution_count": 32,
     "metadata": {},
     "output_type": "execute_result"
    }
   ],
   "source": [
    "local_train[local_train.Other_holidays==1].groupby(['Date']).Other_holidays.count().shape[0] + local_test[local_test.Other_holidays==1].groupby(['Date']).Other_holidays.count().shape[0]"
   ]
  },
  {
   "cell_type": "markdown",
   "metadata": {},
   "source": [
    "#### 1.13 Select 10 Stores with highest total Sales in 2011. Compute the percentage of Sales during Black Friday week compared to total Sales; during Super Bowl week; during Christmas week. (three integer numbers 0-100, e.g. 99)"
   ]
  },
  {
   "cell_type": "code",
   "execution_count": 33,
   "metadata": {},
   "outputs": [],
   "source": [
    "top_10 = local_train[local_train.Date.dt.year == 2011].groupby('Store').Weekly_Sales.sum().sort_values(ascending=False)[:10]"
   ]
  },
  {
   "cell_type": "code",
   "execution_count": 34,
   "metadata": {},
   "outputs": [
    {
     "data": {
      "text/plain": [
       "3.0"
      ]
     },
     "execution_count": 34,
     "metadata": {},
     "output_type": "execute_result"
    }
   ],
   "source": [
    "black_fri = local_train[local_train.Store.isin(top_10.index) & (local_train.Date.dt.year == 2011) & local_train.Is_BlackFriday].groupby('Store').Weekly_Sales.sum()\n",
    "round(black_fri.sum()*100/top_10.sum())"
   ]
  },
  {
   "cell_type": "code",
   "execution_count": 35,
   "metadata": {},
   "outputs": [
    {
     "data": {
      "text/plain": [
       "2.0"
      ]
     },
     "execution_count": 35,
     "metadata": {},
     "output_type": "execute_result"
    }
   ],
   "source": [
    "SuperBowl = local_train[local_train.Store.isin(top_10.index) & (local_train.Date.dt.year == 2011) & local_train.Is_SuperBowl].groupby('Store').Weekly_Sales.sum()\n",
    "round(SuperBowl.sum()*100/top_10.sum())"
   ]
  },
  {
   "cell_type": "code",
   "execution_count": 36,
   "metadata": {},
   "outputs": [
    {
     "data": {
      "text/plain": [
       "2.0"
      ]
     },
     "execution_count": 36,
     "metadata": {},
     "output_type": "execute_result"
    }
   ],
   "source": [
    "Christmas = local_train[local_train.Store.isin(top_10.index) & (local_train.Date.dt.year == 2011) & local_train.Is_Christmas].groupby('Store').Weekly_Sales.sum()\n",
    "round(Christmas.sum()*100/top_10.sum())"
   ]
  },
  {
   "cell_type": "markdown",
   "metadata": {},
   "source": [
    "#### 1.14 Select 10 Stores with lowest total Sales in 2011. Compute the percentage of Sales during Black Friday week compared to total Sales; during Super Bowl week; during Christmas week. (three integer numbers 0-100, e.g. 99)"
   ]
  },
  {
   "cell_type": "code",
   "execution_count": 37,
   "metadata": {},
   "outputs": [],
   "source": [
    "bottom_10 = local_train[local_train.Date.dt.year == 2011].groupby('Store').Weekly_Sales.sum().sort_values(ascending=True)[:10]"
   ]
  },
  {
   "cell_type": "code",
   "execution_count": 38,
   "metadata": {},
   "outputs": [
    {
     "data": {
      "text/plain": [
       "2.0"
      ]
     },
     "execution_count": 38,
     "metadata": {},
     "output_type": "execute_result"
    }
   ],
   "source": [
    "black_fri = local_train[local_train.Store.isin(bottom_10.index) & (local_train.Date.dt.year == 2011) & local_train.Is_BlackFriday].groupby('Store').Weekly_Sales.sum()\n",
    "round(black_fri.sum()*100/bottom_10.sum())"
   ]
  },
  {
   "cell_type": "code",
   "execution_count": 39,
   "metadata": {},
   "outputs": [
    {
     "data": {
      "text/plain": [
       "2.0"
      ]
     },
     "execution_count": 39,
     "metadata": {},
     "output_type": "execute_result"
    }
   ],
   "source": [
    "SuperBowl = local_train[local_train.Store.isin(bottom_10.index) & (local_train.Date.dt.year == 2011) & local_train.Is_SuperBowl].groupby('Store').Weekly_Sales.sum()\n",
    "round(SuperBowl.sum()*100/bottom_10.sum())"
   ]
  },
  {
   "cell_type": "code",
   "execution_count": 40,
   "metadata": {},
   "outputs": [
    {
     "data": {
      "text/plain": [
       "2.0"
      ]
     },
     "execution_count": 40,
     "metadata": {},
     "output_type": "execute_result"
    }
   ],
   "source": [
    "Christmas = local_train[local_train.Store.isin(bottom_10.index) & (local_train.Date.dt.year == 2011) & local_train.Is_Christmas].groupby('Store').Weekly_Sales.sum()\n",
    "round(Christmas.sum()*100/bottom_10.sum())"
   ]
  },
  {
   "cell_type": "markdown",
   "metadata": {},
   "source": [
    "#### 1.15 Plot a linear graph of temperature over time (averaged over all stores). "
   ]
  },
  {
   "cell_type": "code",
   "execution_count": 41,
   "metadata": {},
   "outputs": [
    {
     "data": {
      "image/png": "[encoded data removed]",
      "text/plain": [
       "<Figure size 432x288 with 1 Axes>"
      ]
     },
     "metadata": {
      "needs_background": "light"
     },
     "output_type": "display_data"
    }
   ],
   "source": [
    "df = data.groupby(['Date','Store']).last().groupby('Date').Temperature.mean().reset_index()\n",
    "ax = sns.lineplot(x=\"Date\", y=\"Temperature\", data = df[['Temperature','Date']])\n",
    "ax.set_title('Line graph of temperature over time')\n",
    "plt.xticks(rotation=70)\n",
    "plt.show()"
   ]
  },
  {
   "cell_type": "markdown",
   "metadata": {},
   "source": [
    "#### 1.16 Plot a scatter plot of `Temperature` vs `Weekly_Sales` (every point corresponds to a single date, a single store). Compute correlation between them. (single number rounded to 3 decimal places, e.g. 0.001)"
   ]
  },
  {
   "cell_type": "code",
   "execution_count": 42,
   "metadata": {},
   "outputs": [
    {
     "data": {
      "text/plain": [
       "<matplotlib.axes._subplots.AxesSubplot at 0x1d013cddf88>"
      ]
     },
     "execution_count": 42,
     "metadata": {},
     "output_type": "execute_result"
    },
    {
     "data": {
      "image/png": "[encoded data removed]",
      "text/plain": [
       "<Figure size 432x288 with 1 Axes>"
      ]
     },
     "metadata": {
      "needs_background": "light"
     },
     "output_type": "display_data"
    }
   ],
   "source": [
    "df = pd.merge(data.groupby(['Date','Store']).Weekly_Sales.sum().reset_index(),\n",
    "              data.groupby(['Date','Store']).Temperature.first().reset_index())\n",
    "sns.scatterplot(x='Temperature',y='Weekly_Sales',data=df)"
   ]
  },
  {
   "cell_type": "code",
   "execution_count": 43,
   "metadata": {},
   "outputs": [
    {
     "data": {
      "text/plain": [
       "-0.064"
      ]
     },
     "execution_count": 43,
     "metadata": {},
     "output_type": "execute_result"
    }
   ],
   "source": [
    "df.Temperature.corr(df.Weekly_Sales).round(3)"
   ]
  },
  {
   "cell_type": "markdown",
   "metadata": {},
   "source": [
    "#### 1.17 Find 2 stores with the biggest difference in temperature in July 2010. (two stores ID, e.g. 1, 2)"
   ]
  },
  {
   "cell_type": "code",
   "execution_count": 44,
   "metadata": {},
   "outputs": [
    {
     "data": {
      "text/plain": [
       "Store\n",
       "23    12.40\n",
       "26    12.18\n",
       "Name: Temperature, dtype: float64"
      ]
     },
     "execution_count": 44,
     "metadata": {},
     "output_type": "execute_result"
    }
   ],
   "source": [
    "df = data[(data.Date.dt.year==2010) & (data.Date.dt.month==7)].sort_values(by=['Store','Temperature'])\n",
    "(df.groupby(['Store']).last().Temperature-df.groupby(['Store']).first().Temperature).sort_values(ascending=False)[:2]"
   ]
  },
  {
   "cell_type": "markdown",
   "metadata": {},
   "source": [
    "#### 1.18 Plot a linear graph of temperature over time for these two stores, use different colors for different stores. "
   ]
  },
  {
   "cell_type": "code",
   "execution_count": 45,
   "metadata": {},
   "outputs": [
    {
     "data": {
      "image/png": "[encoded data removed]",
      "text/plain": [
       "<Figure size 432x288 with 1 Axes>"
      ]
     },
     "metadata": {
      "needs_background": "light"
     },
     "output_type": "display_data"
    }
   ],
   "source": [
    "ax = sns.lineplot(x=\"Date\", y=\"Temperature\", data = data.loc[data.Store==23, ['Temperature','Date']].groupby('Date').Temperature.first().reset_index(), label='Store_23')\n",
    "ax = sns.lineplot(x=\"Date\", y=\"Temperature\", data = data.loc[data.Store==26, ['Temperature','Date']].groupby('Date').Temperature.first().reset_index(), label='Store_26')\n",
    "ax.set_title('Line graph of temperature over time for two stores having biggest temp difference')\n",
    "plt.xticks(rotation=70)\n",
    "plt.show()"
   ]
  },
  {
   "cell_type": "markdown",
   "metadata": {},
   "source": [
    "#### 1.19 Plot a scatter plot of `Temperature` vs `Weekly_Sales`, use different colors for points corresponding to different stores. Compute correlation between temperature and sales separately for each of 2 stores. (two numbers rounded to 3 decimal places, e.g. 0.001, 0.002)"
   ]
  },
  {
   "cell_type": "code",
   "execution_count": 46,
   "metadata": {},
   "outputs": [
    {
     "data": {
      "text/plain": [
       "<matplotlib.axes._subplots.AxesSubplot at 0x1d013ed56c8>"
      ]
     },
     "execution_count": 46,
     "metadata": {},
     "output_type": "execute_result"
    },
    {
     "data": {
      "image/png": "[encoded data removed]",
      "text/plain": [
       "<Figure size 432x288 with 1 Axes>"
      ]
     },
     "metadata": {
      "needs_background": "light"
     },
     "output_type": "display_data"
    }
   ],
   "source": [
    "df1 = data.loc[(data.Store==23)].groupby(['Date','Temperature']).Weekly_Sales.sum().reset_index()\n",
    "df2 = data.loc[(data.Store==26)].groupby(['Date','Temperature']).Weekly_Sales.sum().reset_index()\n",
    "sns.scatterplot(x='Temperature', y='Weekly_Sales', data=df1, label='Store_23')\n",
    "sns.scatterplot(x='Temperature', y='Weekly_Sales', data=df2, label='Store_26')"
   ]
  },
  {
   "cell_type": "code",
   "execution_count": 47,
   "metadata": {},
   "outputs": [
    {
     "data": {
      "text/plain": [
       "0.056"
      ]
     },
     "execution_count": 47,
     "metadata": {},
     "output_type": "execute_result"
    }
   ],
   "source": [
    "df1.Temperature.corr(df1.Weekly_Sales).round(3)"
   ]
  },
  {
   "cell_type": "code",
   "execution_count": 48,
   "metadata": {},
   "outputs": [
    {
     "data": {
      "text/plain": [
       "0.212"
      ]
     },
     "execution_count": 48,
     "metadata": {},
     "output_type": "execute_result"
    }
   ],
   "source": [
    "df2.Temperature.corr(df2.Weekly_Sales).round(3)"
   ]
  },
  {
   "cell_type": "markdown",
   "metadata": {},
   "source": [
    "#### Generate new attribute `Average_Temperature_month`: average temperature over current month for this particular store. \n",
    "You may use any reasonable approach: e.g. for the current week average of the last 4 weeks, or average of all weeks from the same month one year ago."
   ]
  },
  {
   "cell_type": "code",
   "execution_count": 49,
   "metadata": {},
   "outputs": [],
   "source": [
    "lookup = local_train.assign(month=local_train.Date.dt.month).groupby(['Store','month']).Temperature.mean()"
   ]
  },
  {
   "cell_type": "code",
   "execution_count": 50,
   "metadata": {},
   "outputs": [],
   "source": [
    "local_train['Average_Temperature_month'] = local_train.assign(month=local_train.Date.dt.month)[['Store','month']].apply(lambda row: lookup.loc[tuple(row)],axis=1)"
   ]
  },
  {
   "cell_type": "code",
   "execution_count": 51,
   "metadata": {},
   "outputs": [],
   "source": [
    "local_test['Average_Temperature_month'] = local_test.assign(month=local_test.Date.dt.month)[['Store','month']].apply(lambda row: lookup.loc[tuple(row)],axis=1)"
   ]
  },
  {
   "cell_type": "markdown",
   "metadata": {},
   "source": [
    "#### Sample Weight"
   ]
  },
  {
   "cell_type": "code",
   "execution_count": 52,
   "metadata": {},
   "outputs": [],
   "source": [
    "local_train['weight'] = local_train.IsHoliday.map({True:5, False:1})\n",
    "local_test['weight'] = local_test.IsHoliday.map({True:5, False:1})"
   ]
  },
  {
   "cell_type": "markdown",
   "metadata": {},
   "source": [
    "#### Drop `Fuel_Price`, `MarkDown1`, `MarkDown2`, `MarkDown3`, `MarkDown4`, `MarkDown5`, `CPI`, `Unemployment`, `Temperature` as they only appears for the downloaded train table (they are not available for the “future”); Drop `Is_Holiday` and `Type` attribute; . \n"
   ]
  },
  {
   "cell_type": "code",
   "execution_count": 53,
   "metadata": {},
   "outputs": [],
   "source": [
    "local_train = local_train.drop(['Fuel_Price', 'MarkDown1', 'MarkDown2', 'MarkDown3', 'MarkDown4', 'MarkDown5', 'CPI', 'Unemployment', 'Temperature', 'IsHoliday', 'Type'], axis=1)\n",
    "local_test = local_test.drop(['Fuel_Price', 'MarkDown1', 'MarkDown2', 'MarkDown3', 'MarkDown4', 'MarkDown5', 'CPI', 'Unemployment', 'Temperature', 'IsHoliday', 'Type'], axis=1)"
   ]
  },
  {
   "cell_type": "markdown",
   "metadata": {},
   "source": [
    "## Task-2 Building a regression model"
   ]
  },
  {
   "cell_type": "code",
   "execution_count": 54,
   "metadata": {},
   "outputs": [],
   "source": [
    "X_train = local_train.loc[:,~local_train.columns.isin(['Weekly_Sales','Date','weight'])]\n",
    "y_train = local_train.Weekly_Sales\n",
    "weight_train = local_train['weight']\n",
    "X_test = local_test.loc[:,~local_test.columns.isin(['Weekly_Sales','Date','weight'])]\n",
    "y_test = local_test.Weekly_Sales\n",
    "weight_test = local_test['weight']"
   ]
  },
  {
   "cell_type": "markdown",
   "metadata": {},
   "source": [
    "#### 2.1 Compute performance of your model on a test set; on a train set. Use wMAE (absolute_error in RM, mean_absolute_error in sklearn). What is the difference between train score and test score? (single number rounded to 3 decimal places, e.g. 123.456)"
   ]
  },
  {
   "cell_type": "code",
   "execution_count": 55,
   "metadata": {},
   "outputs": [
    {
     "data": {
      "text/plain": [
       "RandomForestRegressor(bootstrap=True, ccp_alpha=0.0, criterion='mse',\n",
       "                      max_depth=10, max_features='auto', max_leaf_nodes=None,\n",
       "                      max_samples=None, min_impurity_decrease=0.0,\n",
       "                      min_impurity_split=None, min_samples_leaf=1,\n",
       "                      min_samples_split=2, min_weight_fraction_leaf=0.0,\n",
       "                      n_estimators=10, n_jobs=None, oob_score=False,\n",
       "                      random_state=None, verbose=0, warm_start=False)"
      ]
     },
     "execution_count": 55,
     "metadata": {},
     "output_type": "execute_result"
    }
   ],
   "source": [
    "model = RandomForestRegressor(n_estimators=10, max_depth=10)\n",
    "model.fit(X_train, y_train, sample_weight=weight_train)"
   ]
  },
  {
   "cell_type": "code",
   "execution_count": 56,
   "metadata": {},
   "outputs": [],
   "source": [
    "y_pred = model.predict(X_train)\n",
    "wMAE_train = mean_absolute_error(y_train, y_pred, sample_weight=weight_train)"
   ]
  },
  {
   "cell_type": "code",
   "execution_count": 57,
   "metadata": {},
   "outputs": [],
   "source": [
    "y_pred = model.predict(X_test)\n",
    "wMAE_test = mean_absolute_error(y_test, y_pred, sample_weight=weight_test)"
   ]
  },
  {
   "cell_type": "code",
   "execution_count": 58,
   "metadata": {},
   "outputs": [
    {
     "data": {
      "text/plain": [
       "100.533"
      ]
     },
     "execution_count": 58,
     "metadata": {},
     "output_type": "execute_result"
    }
   ],
   "source": [
    "round(wMAE_train - wMAE_test,3)"
   ]
  },
  {
   "cell_type": "markdown",
   "metadata": {},
   "source": [
    "#### 2.2 What are the resulting parameters of the best model? (3 numbers, e.g. 5, 2, 0.1)"
   ]
  },
  {
   "cell_type": "code",
   "execution_count": 59,
   "metadata": {},
   "outputs": [],
   "source": [
    "sample = pd.DataFrame()\n",
    "for store in range(1,46):\n",
    "    sample = pd.concat([sample, local_train[local_train.Store==store].sample(frac=0.1, random_state=1000)])\n",
    "X_sample = sample.loc[:,~sample.columns.isin(['Weekly_Sales','Date','weight'])]\n",
    "y_sample = sample.Weekly_Sales\n",
    "sample_weight = sample.weight.to_list()"
   ]
  },
  {
   "cell_type": "code",
   "execution_count": 60,
   "metadata": {},
   "outputs": [],
   "source": [
    "estimator = RandomForestRegressor()\n",
    "param_grid = {'n_estimators':range(5,50,2), \n",
    "              'max_depth':range(2,20), \n",
    "              'max_features':np.arange(0.1,1.0,0.1),\n",
    "             }\n",
    "classifier = GridSearchCV(estimator, param_grid, n_jobs=-1, verbose=1000)\n",
    "classifier.fit(X_sample, y_sample, sample_weight=sample.weight)\n",
    "joblib.dump(classifier, DATA_PATH+'model_10_percent.sav')"
   ]
  },
  {
   "cell_type": "code",
   "execution_count": 61,
   "metadata": {},
   "outputs": [],
   "source": [
    "loaded_model = joblib.load(DATA_PATH+'model_10_percent.sav')"
   ]
  },
  {
   "cell_type": "code",
   "execution_count": 62,
   "metadata": {},
   "outputs": [
    {
     "data": {
      "text/plain": [
       "RandomForestRegressor(bootstrap=True, ccp_alpha=0.0, criterion='mse',\n",
       "                      max_depth=19, max_features=0.6, max_leaf_nodes=None,\n",
       "                      max_samples=None, min_impurity_decrease=0.0,\n",
       "                      min_impurity_split=None, min_samples_leaf=1,\n",
       "                      min_samples_split=2, min_weight_fraction_leaf=0.0,\n",
       "                      n_estimators=31, n_jobs=None, oob_score=False,\n",
       "                      random_state=None, verbose=0, warm_start=False)"
      ]
     },
     "execution_count": 62,
     "metadata": {},
     "output_type": "execute_result"
    }
   ],
   "source": [
    "best_estimator = loaded_model.best_estimator_\n",
    "best_estimator"
   ]
  },
  {
   "cell_type": "markdown",
   "metadata": {},
   "source": [
    "#### 2.3 What is the difference between train score and test score? (single number rounded to 3 decimal places, e.g. 123.456)"
   ]
  },
  {
   "cell_type": "code",
   "execution_count": 63,
   "metadata": {},
   "outputs": [
    {
     "data": {
      "text/plain": [
       "493.109"
      ]
     },
     "execution_count": 63,
     "metadata": {},
     "output_type": "execute_result"
    }
   ],
   "source": [
    "y_pred = best_estimator.predict(X_train)\n",
    "wMAE_train = mean_absolute_error(y_train, y_pred, sample_weight=weight_train)\n",
    "\n",
    "y_pred = best_estimator.predict(X_test)\n",
    "wMAE_test = mean_absolute_error(y_test,y_pred, sample_weight=weight_test)\n",
    "\n",
    "round(wMAE_train - wMAE_test,3)"
   ]
  },
  {
   "cell_type": "markdown",
   "metadata": {},
   "source": [
    "#### 2.4 What is the difference between test score using default parameters (II.1.b) and the test score using parameters obtained using GridSearch? (single number rounded to 3 decimal places, e.g. 123.456)"
   ]
  },
  {
   "cell_type": "code",
   "execution_count": 64,
   "metadata": {},
   "outputs": [
    {
     "data": {
      "text/plain": [
       "1319.676"
      ]
     },
     "execution_count": 64,
     "metadata": {},
     "output_type": "execute_result"
    }
   ],
   "source": [
    "y_pred = model.predict(X_test)\n",
    "wMAE_test_1 = mean_absolute_error(y_test,y_pred,sample_weight=weight_test)\n",
    "\n",
    "y_pred = best_estimator.predict(X_test)\n",
    "wMAE_test_2 = mean_absolute_error(y_test,y_pred,sample_weight=weight_test)\n",
    "\n",
    "round(wMAE_test_1 - wMAE_test_2,3)"
   ]
  },
  {
   "cell_type": "code",
   "execution_count": 65,
   "metadata": {},
   "outputs": [
    {
     "data": {
      "text/plain": [
       "0.8900072258682644"
      ]
     },
     "execution_count": 65,
     "metadata": {},
     "output_type": "execute_result"
    }
   ],
   "source": [
    "model.score(X_train, y_train, sample_weight=weight_train)"
   ]
  },
  {
   "cell_type": "markdown",
   "metadata": {},
   "source": [
    "## Task 3 - Analyzing the resulting model"
   ]
  },
  {
   "cell_type": "markdown",
   "metadata": {},
   "source": [
    "#### 3.1 Analyze the results for different Stores: \n",
    "a) Compute wMAE separately for Stores of different types (`Total_Sales_Store_Type`). \n",
    "\n",
    "b) Is there any difference between errors obtained for different types of Stores? Plot a boxplot or bar plot of errors distribution (1 box/bar for every week type).\n"
   ]
  },
  {
   "cell_type": "code",
   "execution_count": 66,
   "metadata": {},
   "outputs": [],
   "source": [
    "wMAEs = pd.DataFrame()\n",
    "data = pd.concat([local_train, local_test])\n",
    "for store_type in data.Total_Sales_Store_Type.unique():\n",
    "    sample = data[data.Total_Sales_Store_Type == store_type]\n",
    "    sample_weight = sample.weight\n",
    "    X = sample.loc[:,~sample.columns.isin(['Weekly_Sales','Date','weight'])]\n",
    "    y = sample.Weekly_Sales\n",
    "    y_pred = best_estimator.predict(X)\n",
    "    wMAE = mean_absolute_error(y, y_pred, sample_weight=sample_weight)\n",
    "    wMAEs = wMAEs.append(pd.Series({'Total_Sales_Store_Type':str(store_type), 'wMAE':wMAE, 'Number of Instances':str(int(sample.shape[0]))}), ignore_index=True)"
   ]
  },
  {
   "cell_type": "code",
   "execution_count": 67,
   "metadata": {},
   "outputs": [
    {
     "data": {
      "text/html": [
       "<div>\n",
       "<style scoped>\n",
       "    .dataframe tbody tr th:only-of-type {\n",
       "        vertical-align: middle;\n",
       "    }\n",
       "\n",
       "    .dataframe tbody tr th {\n",
       "        vertical-align: top;\n",
       "    }\n",
       "\n",
       "    .dataframe thead th {\n",
       "        text-align: right;\n",
       "    }\n",
       "</style>\n",
       "<table border=\"1\" class=\"dataframe\">\n",
       "  <thead>\n",
       "    <tr style=\"text-align: right;\">\n",
       "      <th></th>\n",
       "      <th>Number of Instances</th>\n",
       "      <th>Total_Sales_Store_Type</th>\n",
       "      <th>wMAE</th>\n",
       "    </tr>\n",
       "  </thead>\n",
       "  <tbody>\n",
       "    <tr>\n",
       "      <th>0</th>\n",
       "      <td>92233</td>\n",
       "      <td>5</td>\n",
       "      <td>5254.741462</td>\n",
       "    </tr>\n",
       "    <tr>\n",
       "      <th>1</th>\n",
       "      <td>69080</td>\n",
       "      <td>1</td>\n",
       "      <td>1775.510362</td>\n",
       "    </tr>\n",
       "    <tr>\n",
       "      <th>2</th>\n",
       "      <td>80712</td>\n",
       "      <td>2</td>\n",
       "      <td>2334.333414</td>\n",
       "    </tr>\n",
       "    <tr>\n",
       "      <th>3</th>\n",
       "      <td>88634</td>\n",
       "      <td>3</td>\n",
       "      <td>3199.978581</td>\n",
       "    </tr>\n",
       "    <tr>\n",
       "      <th>4</th>\n",
       "      <td>90911</td>\n",
       "      <td>4</td>\n",
       "      <td>3871.463128</td>\n",
       "    </tr>\n",
       "  </tbody>\n",
       "</table>\n",
       "</div>"
      ],
      "text/plain": [
       "  Number of Instances Total_Sales_Store_Type         wMAE\n",
       "0               92233                      5  5254.741462\n",
       "1               69080                      1  1775.510362\n",
       "2               80712                      2  2334.333414\n",
       "3               88634                      3  3199.978581\n",
       "4               90911                      4  3871.463128"
      ]
     },
     "execution_count": 67,
     "metadata": {},
     "output_type": "execute_result"
    }
   ],
   "source": [
    "wMAEs"
   ]
  },
  {
   "cell_type": "code",
   "execution_count": 68,
   "metadata": {},
   "outputs": [
    {
     "data": {
      "text/plain": [
       "<matplotlib.axes._subplots.AxesSubplot at 0x1d012f04408>"
      ]
     },
     "execution_count": 68,
     "metadata": {},
     "output_type": "execute_result"
    },
    {
     "data": {
      "image/png": "[encoded data removed]",
      "text/plain": [
       "<Figure size 432x288 with 1 Axes>"
      ]
     },
     "metadata": {
      "needs_background": "light"
     },
     "output_type": "display_data"
    }
   ],
   "source": [
    "sns.barplot(x='Total_Sales_Store_Type', y='wMAE', data=wMAEs, linewidth=2.5, errcolor=\".2\", edgecolor=\".2\")"
   ]
  },
  {
   "cell_type": "markdown",
   "metadata": {},
   "source": [
    "#### Observation:\n",
    "As we can observe that number of instances/examples in the data-set of each store type are different. Among all the store types, type-1 has less number of instances in the data-set on the other hand type-5 has highest number of instances in the data-set. We can also observe that wMAE is proportionally increasing with the number of instances/examples of each type of store."
   ]
  },
  {
   "cell_type": "markdown",
   "metadata": {},
   "source": [
    "#### 3.2 Analyze the results for different Departments (Dpt).\n",
    "a) Compute wMAE separately for different Department types (`Department_Type`). \n",
    "\n",
    "b) Is there any difference between errors obtained for different types of departments? Plot a boxplot or bar plot of errors distribution (1 box/bar for every week type).\n"
   ]
  },
  {
   "cell_type": "code",
   "execution_count": 69,
   "metadata": {},
   "outputs": [],
   "source": [
    "wMAEs = pd.DataFrame()\n",
    "data = pd.concat([local_train, local_test])\n",
    "for dept_type in data.Department_Type.unique():\n",
    "    sample = data[data.Department_Type == dept_type]\n",
    "    sample_weight = sample.weight\n",
    "    X = sample.loc[:,~sample.columns.isin(['Weekly_Sales','Date','weight'])]\n",
    "    y = sample.Weekly_Sales\n",
    "    y_pred = best_estimator.predict(X)\n",
    "    wMAE = mean_absolute_error(y, y_pred, sample_weight=sample_weight)\n",
    "    wMAEs = wMAEs.append(pd.Series({'Department_Type':str(int(dept_type)), 'wMAE':wMAE, 'Number of Instances':str(int(sample.shape[0]))}), ignore_index=True)"
   ]
  },
  {
   "cell_type": "code",
   "execution_count": 70,
   "metadata": {},
   "outputs": [
    {
     "data": {
      "text/html": [
       "<div>\n",
       "<style scoped>\n",
       "    .dataframe tbody tr th:only-of-type {\n",
       "        vertical-align: middle;\n",
       "    }\n",
       "\n",
       "    .dataframe tbody tr th {\n",
       "        vertical-align: top;\n",
       "    }\n",
       "\n",
       "    .dataframe thead th {\n",
       "        text-align: right;\n",
       "    }\n",
       "</style>\n",
       "<table border=\"1\" class=\"dataframe\">\n",
       "  <thead>\n",
       "    <tr style=\"text-align: right;\">\n",
       "      <th></th>\n",
       "      <th>Department_Type</th>\n",
       "      <th>Number of Instances</th>\n",
       "      <th>wMAE</th>\n",
       "    </tr>\n",
       "  </thead>\n",
       "  <tbody>\n",
       "    <tr>\n",
       "      <th>0</th>\n",
       "      <td>2</td>\n",
       "      <td>401547</td>\n",
       "      <td>3111.226028</td>\n",
       "    </tr>\n",
       "    <tr>\n",
       "      <th>1</th>\n",
       "      <td>1</td>\n",
       "      <td>12319</td>\n",
       "      <td>3211.441797</td>\n",
       "    </tr>\n",
       "    <tr>\n",
       "      <th>2</th>\n",
       "      <td>3</td>\n",
       "      <td>7704</td>\n",
       "      <td>18021.163880</td>\n",
       "    </tr>\n",
       "  </tbody>\n",
       "</table>\n",
       "</div>"
      ],
      "text/plain": [
       "  Department_Type Number of Instances          wMAE\n",
       "0               2              401547   3111.226028\n",
       "1               1               12319   3211.441797\n",
       "2               3                7704  18021.163880"
      ]
     },
     "execution_count": 70,
     "metadata": {},
     "output_type": "execute_result"
    }
   ],
   "source": [
    "wMAEs"
   ]
  },
  {
   "cell_type": "code",
   "execution_count": 71,
   "metadata": {},
   "outputs": [
    {
     "data": {
      "text/plain": [
       "<matplotlib.axes._subplots.AxesSubplot at 0x1d013650cc8>"
      ]
     },
     "execution_count": 71,
     "metadata": {},
     "output_type": "execute_result"
    },
    {
     "data": {
      "image/png": "[encoded data removed]",
      "text/plain": [
       "<Figure size 432x288 with 1 Axes>"
      ]
     },
     "metadata": {
      "needs_background": "light"
     },
     "output_type": "display_data"
    }
   ],
   "source": [
    "sns.barplot(x='Department_Type', y='wMAE', data=wMAEs, linewidth=2.5, errcolor=\".2\", edgecolor=\".2\")"
   ]
  },
  {
   "cell_type": "markdown",
   "metadata": {},
   "source": [
    "#### Observation:\n",
    "In case of different types, we can observe that dept-3 has lowest number of instances and highest wMAE. So, we can conclude that due to less number of instances/examples of dept-3, model couldn’t learn very well on that department.\n"
   ]
  },
  {
   "cell_type": "markdown",
   "metadata": {},
   "source": [
    "#### 3.5 Make an overall conclusion. Your conclusion should include answers to (but not limited to) the following questions:\n",
    "a) How good is your final model for small/huge stores?\n",
    "\n",
    "b) What kind of additional features could you suggest for this task? \n",
    "\n",
    "c) Would you suggest building individual models for Stores/Departments/Regular-Holiday weeks/Nearest-Farthest weeks?\n",
    "\n",
    "d) Which features were most useful? Least useful?\n"
   ]
  },
  {
   "cell_type": "code",
   "execution_count": 72,
   "metadata": {},
   "outputs": [
    {
     "data": {
      "text/plain": [
       "(1785.4351312644076, 0.8427396585989327)"
      ]
     },
     "execution_count": 72,
     "metadata": {},
     "output_type": "execute_result"
    }
   ],
   "source": [
    "data = pd.concat([local_train, local_test])\n",
    "small_stores = sorted(local_train.Size.unique())[:5]\n",
    "small = data[data.Size.isin(small_stores)]\n",
    "sample_weight = small.weight\n",
    "X = small.loc[:,~small.columns.isin(['Weekly_Sales','Date','weight'])]\n",
    "y = small.Weekly_Sales\n",
    "y_pred = best_estimator.predict(X)\n",
    "wMAE = mean_absolute_error(y, y_pred, sample_weight=sample_weight)\n",
    "score = best_estimator.score(X, y, sample_weight=sample_weight)\n",
    "wMAE, score"
   ]
  },
  {
   "cell_type": "code",
   "execution_count": 73,
   "metadata": {},
   "outputs": [
    {
     "data": {
      "text/plain": [
       "(4538.235007974239, 0.8893822546418253)"
      ]
     },
     "execution_count": 73,
     "metadata": {},
     "output_type": "execute_result"
    }
   ],
   "source": [
    "huge_stores = sorted(local_train.Size.unique())[-5:]\n",
    "huge = data[data.Size.isin(huge_stores)]\n",
    "sample_weight = huge.weight\n",
    "X = huge.loc[:,~huge.columns.isin(['Weekly_Sales','Date','weight'])]\n",
    "y = huge.Weekly_Sales\n",
    "y_pred = best_estimator.predict(X)\n",
    "wMAE = mean_absolute_error(y, y_pred, sample_weight=sample_weight)\n",
    "score = best_estimator.score(X, y, sample_weight=sample_weight)\n",
    "wMAE, score"
   ]
  },
  {
   "cell_type": "code",
   "execution_count": 74,
   "metadata": {},
   "outputs": [
    {
     "data": {
      "text/plain": [
       "[('Is_Christmas', 0.0022116467908033875),\n",
       " ('Is_SuperBowl', 0.0022248122905002736),\n",
       " ('Other_holidays', 0.0024305671091564636),\n",
       " ('Regular_weeks', 0.010858750247163042),\n",
       " ('Year', 0.013202926002506317),\n",
       " ('Average_Temperature_month', 0.04414015978544416),\n",
       " ('Week_of_Year', 0.0455384818536372),\n",
       " ('Store', 0.04833968073707328),\n",
       " ('Is_BlackFriday', 0.05205799512520924),\n",
       " ('Department_Type', 0.05360258708987602),\n",
       " ('Total_Sales_Store_Type', 0.07956773880658465),\n",
       " ('Size', 0.1256155027140977),\n",
       " ('Dept', 0.5202091514479482)]"
      ]
     },
     "execution_count": 74,
     "metadata": {},
     "output_type": "execute_result"
    }
   ],
   "source": [
    "features = list(zip(X_train.columns,best_estimator.feature_importances_))\n",
    "features.sort(key=lambda x: x[1])\n",
    "features"
   ]
  },
  {
   "cell_type": "markdown",
   "metadata": {},
   "source": [
    "## Bonus\n",
    "#### 2.4 Train separate models for different types of weeks: holidays’ weeks and regular.\n",
    "You may train separate models for every type of week (Christmas, etc), but you probably lack training data for all weeks except regular.\n",
    "\n",
    "a) Tune every model using Grid Search as in II.2. \n",
    "\n",
    "b) Make predictions on a test set; train set, save results to file. (you will need them in part III)\n",
    "\n",
    "c) Compute train and test performance using wMAE.\n"
   ]
  },
  {
   "cell_type": "markdown",
   "metadata": {},
   "source": [
    "#### Holidays’ weeks Model"
   ]
  },
  {
   "cell_type": "code",
   "execution_count": 75,
   "metadata": {},
   "outputs": [],
   "source": [
    "holiday_train = local_train[(local_train.Is_SuperBowl==1)|(local_train.Is_BlackFriday==1)|(local_train.Is_Christmas==1)|local_train.Other_holidays==1]\n",
    "holiday_test = local_test[(local_test.Is_SuperBowl==1)|(local_test.Is_BlackFriday==1)|(local_test.Is_Christmas==1)|local_test.Other_holidays==1]\n",
    "\n",
    "sample = pd.DataFrame()\n",
    "for store in range(1,46):\n",
    "    sample = pd.concat([sample, holiday_train[holiday_train.Store==store].sample(frac=0.5, random_state=1000)])\n",
    "X_sample = sample.loc[:,~sample.columns.isin(['Weekly_Sales','Date','weight'])]\n",
    "y_sample = sample.Weekly_Sales\n",
    "sample_weight = sample.weight.to_list()"
   ]
  },
  {
   "cell_type": "code",
   "execution_count": 76,
   "metadata": {},
   "outputs": [],
   "source": [
    "estimator = RandomForestRegressor()\n",
    "param_grid = {'n_estimators':range(5,50,2), \n",
    "              'max_depth':range(2,20), \n",
    "              'max_features':np.arange(0.1,1.0,0.1),\n",
    "             }\n",
    "classifier = GridSearchCV(estimator, param_grid, n_jobs=-1, verbose=1000)\n",
    "classifier.fit(X_sample, y_sample, sample_weight=sample.weight)\n",
    "joblib.dump(classifier, 'model_holidays.sav')"
   ]
  },
  {
   "cell_type": "code",
   "execution_count": 77,
   "metadata": {},
   "outputs": [],
   "source": [
    "loaded_model = joblib.load(DATA_PATH+'model_holidays.sav')"
   ]
  },
  {
   "cell_type": "code",
   "execution_count": 78,
   "metadata": {},
   "outputs": [],
   "source": [
    "holidays_estimator = loaded_model.best_estimator_"
   ]
  },
  {
   "cell_type": "code",
   "execution_count": 79,
   "metadata": {},
   "outputs": [],
   "source": [
    "X_train = holiday_train.loc[:,~holiday_train.columns.isin(['Weekly_Sales','Date','weight'])]\n",
    "y_train = holiday_train.Weekly_Sales\n",
    "weight_train= holiday_train.weight\n",
    "X_test = holiday_test.loc[:,~holiday_test.columns.isin(['Weekly_Sales','Date','weight'])]\n",
    "y_test = holiday_test.Weekly_Sales\n",
    "weight_test = holiday_test.weight"
   ]
  },
  {
   "cell_type": "code",
   "execution_count": 80,
   "metadata": {},
   "outputs": [
    {
     "data": {
      "text/plain": [
       "(2593.7820396331763, 2809.400922779725)"
      ]
     },
     "execution_count": 80,
     "metadata": {},
     "output_type": "execute_result"
    }
   ],
   "source": [
    "y_pred = holidays_estimator.predict(X_train)\n",
    "wMAE_train = mean_absolute_error(y_train, y_pred, sample_weight=weight_train)\n",
    "\n",
    "y_pred = holidays_estimator.predict(X_test)\n",
    "wMAE_test = mean_absolute_error(y_test,y_pred, sample_weight=weight_test)\n",
    "\n",
    "wMAE_train, wMAE_test"
   ]
  },
  {
   "cell_type": "code",
   "execution_count": 81,
   "metadata": {},
   "outputs": [
    {
     "data": {
      "text/plain": [
       "(2990.4509211215004, 0.5382866321719052)"
      ]
     },
     "execution_count": 81,
     "metadata": {},
     "output_type": "execute_result"
    }
   ],
   "source": [
    "#Small Store\n",
    "data = pd.concat([holiday_train, holiday_test])\n",
    "small_stores = sorted(data.Size.unique())[:5]\n",
    "small = data[data.Size.isin(small_stores)]\n",
    "sample_weight = small.weight\n",
    "X = small.loc[:,~small.columns.isin(['Weekly_Sales','Date','weight'])]\n",
    "y = small.Weekly_Sales\n",
    "y_pred = best_estimator.predict(X)\n",
    "wMAE = mean_absolute_error(y, y_pred, sample_weight=sample_weight)\n",
    "score = best_estimator.score(X, y, sample_weight=sample_weight)\n",
    "wMAE, score"
   ]
  },
  {
   "cell_type": "code",
   "execution_count": 82,
   "metadata": {},
   "outputs": [
    {
     "data": {
      "text/plain": [
       "(6833.759615842565, 0.7997973799711988)"
      ]
     },
     "execution_count": 82,
     "metadata": {},
     "output_type": "execute_result"
    }
   ],
   "source": [
    "#Huge Store\n",
    "data = pd.concat([holiday_train, holiday_test])\n",
    "huge_stores = sorted(data.Size.unique())[-5:]\n",
    "huge = data[data.Size.isin(huge_stores)]\n",
    "sample_weight = huge.weight\n",
    "X = huge.loc[:,~huge.columns.isin(['Weekly_Sales','Date','weight'])]\n",
    "y = huge.Weekly_Sales\n",
    "y_pred = best_estimator.predict(X)\n",
    "wMAE = mean_absolute_error(y, y_pred, sample_weight=sample_weight)\n",
    "score = best_estimator.score(X, y, sample_weight=sample_weight)\n",
    "wMAE, score"
   ]
  },
  {
   "cell_type": "code",
   "execution_count": 83,
   "metadata": {},
   "outputs": [],
   "source": [
    "features_imp = list(zip(X_train.columns,best_estimator.feature_importances_))\n",
    "features_imp.sort(key=lambda x: x[1])"
   ]
  },
  {
   "cell_type": "code",
   "execution_count": 84,
   "metadata": {},
   "outputs": [
    {
     "data": {
      "image/png": "[encoded data removed]",
      "text/plain": [
       "<Figure size 720x360 with 1 Axes>"
      ]
     },
     "metadata": {
      "needs_background": "light"
     },
     "output_type": "display_data"
    }
   ],
   "source": [
    "fig = plt.figure(figsize=(10,5))\n",
    "ax = sns.barplot(x='features', y='Importance', data=pd.DataFrame(features_imp, columns=['features','Importance']), linewidth=2.5, errcolor=\".2\", edgecolor=\".2\")\n",
    "plt.xticks(rotation=-40)\n",
    "plt.show()"
   ]
  },
  {
   "cell_type": "markdown",
   "metadata": {},
   "source": [
    "#### Regulars’ weeks Model"
   ]
  },
  {
   "cell_type": "code",
   "execution_count": 85,
   "metadata": {},
   "outputs": [],
   "source": [
    "regular_train = local_train[local_train.Regular_weeks==1]\n",
    "regular_test = local_test[local_test.Regular_weeks==1]\n",
    "sample = pd.DataFrame()\n",
    "for store in range(1,46):\n",
    "    sample = pd.concat([sample, local_train[local_train.Store==store].sample(frac=0.1, random_state=1000)])\n",
    "X_sample = sample.loc[:,~sample.columns.isin(['Weekly_Sales','Date','weight'])]\n",
    "y_sample = sample.Weekly_Sales\n",
    "sample_weight = sample.weight.to_list()"
   ]
  },
  {
   "cell_type": "code",
   "execution_count": 86,
   "metadata": {},
   "outputs": [],
   "source": [
    "estimator = RandomForestRegressor()\n",
    "param_grid = {'n_estimators':range(5,50,2), \n",
    "              'max_depth':range(2,20), \n",
    "              'max_features':np.arange(0.1,1.0,0.1),\n",
    "             }\n",
    "classifier = GridSearchCV(estimator, param_grid, n_jobs=-1, verbose=1000)\n",
    "\n",
    "classifier.fit(X_sample, y_sample, sample_weight=sample.weight)\n",
    "\n",
    "joblib.dump(classifier, 'model_regular.sav')"
   ]
  },
  {
   "cell_type": "code",
   "execution_count": 87,
   "metadata": {},
   "outputs": [],
   "source": [
    "loaded_model = joblib.load(DATA_PATH+'model_regular.sav')"
   ]
  },
  {
   "cell_type": "code",
   "execution_count": 88,
   "metadata": {},
   "outputs": [],
   "source": [
    "regular_estimator = loaded_model.best_estimator_"
   ]
  },
  {
   "cell_type": "code",
   "execution_count": 89,
   "metadata": {},
   "outputs": [],
   "source": [
    "X_train = regular_train.loc[:,~regular_train.columns.isin(['Weekly_Sales','Date','weight'])]\n",
    "y_train = regular_train.Weekly_Sales\n",
    "weight_train= regular_train.weight\n",
    "X_test = regular_test.loc[:,~regular_test.columns.isin(['Weekly_Sales','Date','weight'])]\n",
    "y_test = regular_test.Weekly_Sales\n",
    "weight_test = regular_test.weight"
   ]
  },
  {
   "cell_type": "code",
   "execution_count": 90,
   "metadata": {},
   "outputs": [
    {
     "data": {
      "text/plain": [
       "(2311.7625438250925, 2357.01592029243)"
      ]
     },
     "execution_count": 90,
     "metadata": {},
     "output_type": "execute_result"
    }
   ],
   "source": [
    "y_pred = regular_estimator.predict(X_train)\n",
    "wMAE_train = mean_absolute_error(y_train, y_pred, sample_weight=weight_train)\n",
    "\n",
    "y_pred = regular_estimator.predict(X_test)\n",
    "wMAE_test = mean_absolute_error(y_test,y_pred, sample_weight=weight_test)\n",
    "\n",
    "wMAE_train, wMAE_test"
   ]
  },
  {
   "cell_type": "code",
   "execution_count": 91,
   "metadata": {},
   "outputs": [
    {
     "data": {
      "text/plain": [
       "(1332.3502905300782, 0.9598129160257235)"
      ]
     },
     "execution_count": 91,
     "metadata": {},
     "output_type": "execute_result"
    }
   ],
   "source": [
    "#Small Store\n",
    "data = pd.concat([regular_train, regular_test])\n",
    "small_stores = sorted(data.Size.unique())[:5]\n",
    "small = data[data.Size.isin(small_stores)]\n",
    "sample_weight = small.weight\n",
    "X = small.loc[:,~small.columns.isin(['Weekly_Sales','Date','weight'])]\n",
    "y = small.Weekly_Sales\n",
    "y_pred = best_estimator.predict(X)\n",
    "wMAE = mean_absolute_error(y, y_pred, sample_weight=sample_weight)\n",
    "score = best_estimator.score(X, y, sample_weight=sample_weight)\n",
    "wMAE, score"
   ]
  },
  {
   "cell_type": "code",
   "execution_count": 92,
   "metadata": {},
   "outputs": [
    {
     "data": {
      "text/plain": [
       "(3667.1158206726145, 0.936228570547455)"
      ]
     },
     "execution_count": 92,
     "metadata": {},
     "output_type": "execute_result"
    }
   ],
   "source": [
    "#Huge Store\n",
    "data = pd.concat([regular_train, regular_test])\n",
    "huge_stores = sorted(data.Size.unique())[-5:]\n",
    "huge = data[data.Size.isin(huge_stores)]\n",
    "sample_weight = huge.weight\n",
    "X = huge.loc[:,~huge.columns.isin(['Weekly_Sales','Date','weight'])]\n",
    "y = huge.Weekly_Sales\n",
    "y_pred = best_estimator.predict(X)\n",
    "wMAE = mean_absolute_error(y, y_pred, sample_weight=sample_weight)\n",
    "score = best_estimator.score(X, y, sample_weight=sample_weight)\n",
    "wMAE, score"
   ]
  },
  {
   "cell_type": "code",
   "execution_count": 93,
   "metadata": {},
   "outputs": [],
   "source": [
    "features_imp = list(zip(X_train.columns,best_estimator.feature_importances_))\n",
    "features_imp.sort(key=lambda x: x[1])"
   ]
  },
  {
   "cell_type": "code",
   "execution_count": 94,
   "metadata": {},
   "outputs": [
    {
     "data": {
      "image/png": "[encoded data removed]",
      "text/plain": [
       "<Figure size 720x360 with 1 Axes>"
      ]
     },
     "metadata": {
      "needs_background": "light"
     },
     "output_type": "display_data"
    }
   ],
   "source": [
    "fig = plt.figure(figsize=(10,5))\n",
    "ax = sns.barplot(x='features', y='Importance', data=pd.DataFrame(features_imp, columns=['features','Importance']), linewidth=2.5, errcolor=\".2\", edgecolor=\".2\")\n",
    "plt.xticks(rotation=-40)\n",
    "plt.show()"
   ]
  },
  {
   "cell_type": "code",
   "execution_count": null,
   "metadata": {},
   "outputs": [],
   "source": []
  },
  {
   "cell_type": "code",
   "execution_count": null,
   "metadata": {},
   "outputs": [],
   "source": []
  }
 ],
 "metadata": {
  "kernelspec": {
   "display_name": "Python 3",
   "language": "python",
   "name": "python3"
  },
  "language_info": {
   "codemirror_mode": {
    "name": "ipython",
    "version": 3
   },
   "file_extension": ".py",
   "mimetype": "text/x-python",
   "name": "python",
   "nbconvert_exporter": "python",
   "pygments_lexer": "ipython3",
   "version": "3.7.6"
  }
 },
 "nbformat": 4,
 "nbformat_minor": 4
}
