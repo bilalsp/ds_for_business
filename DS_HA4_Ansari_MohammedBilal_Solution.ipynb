{
 "cells": [
  {
   "cell_type": "markdown",
   "metadata": {},
   "source": [
    "# <HR> Home Assignment - 4 <HR>"
   ]
  },
  {
   "cell_type": "code",
   "execution_count": 1,
   "metadata": {},
   "outputs": [],
   "source": [
    "import pandas as pd\n",
    "import seaborn as sns\n",
    "import numpy as np\n",
    "from sklearn.preprocessing import LabelEncoder\n",
    "from sklearn.metrics import roc_auc_score\n",
    "from sklearn.metrics import confusion_matrix\n",
    "from sklearn.metrics import accuracy_score\n",
    "from sklearn.linear_model import LogisticRegression\n",
    "from sklearn.ensemble import RandomForestClassifier\n",
    "from sklearn.model_selection import KFold\n",
    "from sklearn.metrics import roc_auc_score\n",
    "import matplotlib.pyplot as plt"
   ]
  },
  {
   "cell_type": "code",
   "execution_count": 2,
   "metadata": {},
   "outputs": [],
   "source": [
    "DATA_PATH = 'data_4/'"
   ]
  },
  {
   "cell_type": "code",
   "execution_count": 3,
   "metadata": {},
   "outputs": [],
   "source": [
    "data = pd.read_csv(DATA_PATH + 'telecom_data.csv', index_col=['index'])\n",
    "data.drop(['Unnamed: 0'], axis=1, inplace=True)\n",
    "data_copy = data.copy(deep=True)"
   ]
  },
  {
   "cell_type": "code",
   "execution_count": 4,
   "metadata": {},
   "outputs": [
    {
     "data": {
      "text/html": [
       "<div>\n",
       "<style scoped>\n",
       "    .dataframe tbody tr th:only-of-type {\n",
       "        vertical-align: middle;\n",
       "    }\n",
       "\n",
       "    .dataframe tbody tr th {\n",
       "        vertical-align: top;\n",
       "    }\n",
       "\n",
       "    .dataframe thead th {\n",
       "        text-align: right;\n",
       "    }\n",
       "</style>\n",
       "<table border=\"1\" class=\"dataframe\">\n",
       "  <thead>\n",
       "    <tr style=\"text-align: right;\">\n",
       "      <th></th>\n",
       "      <th>customerID</th>\n",
       "      <th>gender</th>\n",
       "      <th>SeniorCitizen</th>\n",
       "      <th>Partner</th>\n",
       "      <th>Dependents</th>\n",
       "      <th>tenure</th>\n",
       "      <th>PhoneService</th>\n",
       "      <th>MultipleLines</th>\n",
       "      <th>InternetService</th>\n",
       "      <th>OnlineSecurity</th>\n",
       "      <th>...</th>\n",
       "      <th>DeviceProtection</th>\n",
       "      <th>TechSupport</th>\n",
       "      <th>StreamingTV</th>\n",
       "      <th>StreamingMovies</th>\n",
       "      <th>Contract</th>\n",
       "      <th>PaperlessBilling</th>\n",
       "      <th>PaymentMethod</th>\n",
       "      <th>MonthlyCharges</th>\n",
       "      <th>TotalCharges</th>\n",
       "      <th>Churn</th>\n",
       "    </tr>\n",
       "    <tr>\n",
       "      <th>index</th>\n",
       "      <th></th>\n",
       "      <th></th>\n",
       "      <th></th>\n",
       "      <th></th>\n",
       "      <th></th>\n",
       "      <th></th>\n",
       "      <th></th>\n",
       "      <th></th>\n",
       "      <th></th>\n",
       "      <th></th>\n",
       "      <th></th>\n",
       "      <th></th>\n",
       "      <th></th>\n",
       "      <th></th>\n",
       "      <th></th>\n",
       "      <th></th>\n",
       "      <th></th>\n",
       "      <th></th>\n",
       "      <th></th>\n",
       "      <th></th>\n",
       "      <th></th>\n",
       "    </tr>\n",
       "  </thead>\n",
       "  <tbody>\n",
       "    <tr>\n",
       "      <th>7037</th>\n",
       "      <td>2569-WGERO</td>\n",
       "      <td>Female</td>\n",
       "      <td>No</td>\n",
       "      <td>No</td>\n",
       "      <td>No</td>\n",
       "      <td>72</td>\n",
       "      <td>Yes</td>\n",
       "      <td>No</td>\n",
       "      <td>No</td>\n",
       "      <td>No</td>\n",
       "      <td>...</td>\n",
       "      <td>No</td>\n",
       "      <td>No</td>\n",
       "      <td>No</td>\n",
       "      <td>No</td>\n",
       "      <td>Two year</td>\n",
       "      <td>Yes</td>\n",
       "      <td>Bank transfer (automatic)</td>\n",
       "      <td>21.15</td>\n",
       "      <td>1419.4</td>\n",
       "      <td>No</td>\n",
       "    </tr>\n",
       "    <tr>\n",
       "      <th>7038</th>\n",
       "      <td>6840-RESVB</td>\n",
       "      <td>Male</td>\n",
       "      <td>No</td>\n",
       "      <td>Yes</td>\n",
       "      <td>Yes</td>\n",
       "      <td>24</td>\n",
       "      <td>Yes</td>\n",
       "      <td>Yes</td>\n",
       "      <td>DSL</td>\n",
       "      <td>Yes</td>\n",
       "      <td>...</td>\n",
       "      <td>Yes</td>\n",
       "      <td>Yes</td>\n",
       "      <td>Yes</td>\n",
       "      <td>Yes</td>\n",
       "      <td>One year</td>\n",
       "      <td>Yes</td>\n",
       "      <td>Mailed check</td>\n",
       "      <td>84.80</td>\n",
       "      <td>1990.5</td>\n",
       "      <td>No</td>\n",
       "    </tr>\n",
       "    <tr>\n",
       "      <th>7039</th>\n",
       "      <td>2234-XADUH</td>\n",
       "      <td>Female</td>\n",
       "      <td>No</td>\n",
       "      <td>Yes</td>\n",
       "      <td>Yes</td>\n",
       "      <td>72</td>\n",
       "      <td>Yes</td>\n",
       "      <td>Yes</td>\n",
       "      <td>Fiber optic</td>\n",
       "      <td>No</td>\n",
       "      <td>...</td>\n",
       "      <td>Yes</td>\n",
       "      <td>No</td>\n",
       "      <td>Yes</td>\n",
       "      <td>Yes</td>\n",
       "      <td>One year</td>\n",
       "      <td>Yes</td>\n",
       "      <td>Credit card (automatic)</td>\n",
       "      <td>103.20</td>\n",
       "      <td>7362.9</td>\n",
       "      <td>No</td>\n",
       "    </tr>\n",
       "    <tr>\n",
       "      <th>7041</th>\n",
       "      <td>8361-LTMKD</td>\n",
       "      <td>Male</td>\n",
       "      <td>Yes</td>\n",
       "      <td>Yes</td>\n",
       "      <td>No</td>\n",
       "      <td>4</td>\n",
       "      <td>Yes</td>\n",
       "      <td>Yes</td>\n",
       "      <td>Fiber optic</td>\n",
       "      <td>No</td>\n",
       "      <td>...</td>\n",
       "      <td>No</td>\n",
       "      <td>No</td>\n",
       "      <td>No</td>\n",
       "      <td>No</td>\n",
       "      <td>Month-to-month</td>\n",
       "      <td>Yes</td>\n",
       "      <td>Mailed check</td>\n",
       "      <td>74.40</td>\n",
       "      <td>306.6</td>\n",
       "      <td>Yes</td>\n",
       "    </tr>\n",
       "    <tr>\n",
       "      <th>7042</th>\n",
       "      <td>3186-AJIEK</td>\n",
       "      <td>Male</td>\n",
       "      <td>No</td>\n",
       "      <td>No</td>\n",
       "      <td>No</td>\n",
       "      <td>66</td>\n",
       "      <td>Yes</td>\n",
       "      <td>No</td>\n",
       "      <td>Fiber optic</td>\n",
       "      <td>Yes</td>\n",
       "      <td>...</td>\n",
       "      <td>Yes</td>\n",
       "      <td>Yes</td>\n",
       "      <td>Yes</td>\n",
       "      <td>Yes</td>\n",
       "      <td>Two year</td>\n",
       "      <td>Yes</td>\n",
       "      <td>Bank transfer (automatic)</td>\n",
       "      <td>105.65</td>\n",
       "      <td>6844.5</td>\n",
       "      <td>No</td>\n",
       "    </tr>\n",
       "  </tbody>\n",
       "</table>\n",
       "<p>5 rows × 21 columns</p>\n",
       "</div>"
      ],
      "text/plain": [
       "       customerID  gender SeniorCitizen Partner Dependents  tenure  \\\n",
       "index                                                                \n",
       "7037   2569-WGERO  Female            No      No         No      72   \n",
       "7038   6840-RESVB    Male            No     Yes        Yes      24   \n",
       "7039   2234-XADUH  Female            No     Yes        Yes      72   \n",
       "7041   8361-LTMKD    Male           Yes     Yes         No       4   \n",
       "7042   3186-AJIEK    Male            No      No         No      66   \n",
       "\n",
       "      PhoneService MultipleLines InternetService OnlineSecurity  ...  \\\n",
       "index                                                            ...   \n",
       "7037           Yes            No              No             No  ...   \n",
       "7038           Yes           Yes             DSL            Yes  ...   \n",
       "7039           Yes           Yes     Fiber optic             No  ...   \n",
       "7041           Yes           Yes     Fiber optic             No  ...   \n",
       "7042           Yes            No     Fiber optic            Yes  ...   \n",
       "\n",
       "      DeviceProtection TechSupport StreamingTV StreamingMovies  \\\n",
       "index                                                            \n",
       "7037                No          No          No              No   \n",
       "7038               Yes         Yes         Yes             Yes   \n",
       "7039               Yes          No         Yes             Yes   \n",
       "7041                No          No          No              No   \n",
       "7042               Yes         Yes         Yes             Yes   \n",
       "\n",
       "             Contract PaperlessBilling              PaymentMethod  \\\n",
       "index                                                               \n",
       "7037         Two year              Yes  Bank transfer (automatic)   \n",
       "7038         One year              Yes               Mailed check   \n",
       "7039         One year              Yes    Credit card (automatic)   \n",
       "7041   Month-to-month              Yes               Mailed check   \n",
       "7042         Two year              Yes  Bank transfer (automatic)   \n",
       "\n",
       "      MonthlyCharges  TotalCharges  Churn  \n",
       "index                                      \n",
       "7037           21.15        1419.4     No  \n",
       "7038           84.80        1990.5     No  \n",
       "7039          103.20        7362.9     No  \n",
       "7041           74.40         306.6    Yes  \n",
       "7042          105.65        6844.5     No  \n",
       "\n",
       "[5 rows x 21 columns]"
      ]
     },
     "execution_count": 4,
     "metadata": {},
     "output_type": "execute_result"
    }
   ],
   "source": [
    "data.tail()"
   ]
  },
  {
   "cell_type": "markdown",
   "metadata": {},
   "source": [
    "## Task-1 Data preprocessing"
   ]
  },
  {
   "cell_type": "code",
   "execution_count": 5,
   "metadata": {},
   "outputs": [
    {
     "data": {
      "text/plain": [
       "tenure_group\n",
       "[0.0, 12.0)     1573\n",
       "[12.0, 24.0)     844\n",
       "[24.0, 36.0)     719\n",
       "[36.0, 48.0)     670\n",
       "[48.0, 60.0)     775\n",
       "[60.0, inf)     1462\n",
       "Name: tenure_group, dtype: int64"
      ]
     },
     "execution_count": 5,
     "metadata": {},
     "output_type": "execute_result"
    }
   ],
   "source": [
    "bins = pd.IntervalIndex.from_tuples(\n",
    "    [(0, 12), (12, 24), (24, 36), (36,48), (48,60), (60,float(\"inf\"))], closed='left')\n",
    "data['tenure_group'] = pd.cut(data.tenure, bins)\n",
    "data.groupby(['tenure_group']).tenure_group.count()"
   ]
  },
  {
   "cell_type": "code",
   "execution_count": 6,
   "metadata": {},
   "outputs": [
    {
     "data": {
      "text/plain": [
       "(13,\n",
       " ['gender',\n",
       "  'SeniorCitizen',\n",
       "  'Partner',\n",
       "  'Dependents',\n",
       "  'PhoneService',\n",
       "  'OnlineSecurity',\n",
       "  'OnlineBackup',\n",
       "  'DeviceProtection',\n",
       "  'TechSupport',\n",
       "  'StreamingTV',\n",
       "  'StreamingMovies',\n",
       "  'PaperlessBilling',\n",
       "  'Churn'])"
      ]
     },
     "execution_count": 6,
     "metadata": {},
     "output_type": "execute_result"
    }
   ],
   "source": [
    "binary_cols = list(filter(lambda col: data[col].nunique()==2, data.columns))\n",
    "for binary_col in binary_cols:\n",
    "    data[binary_col] = LabelEncoder().fit_transform(data[binary_col])\n",
    "len(binary_cols), binary_cols"
   ]
  },
  {
   "cell_type": "code",
   "execution_count": 7,
   "metadata": {},
   "outputs": [],
   "source": [
    "data = data.drop('customerID', axis=1)"
   ]
  },
  {
   "cell_type": "code",
   "execution_count": 8,
   "metadata": {},
   "outputs": [
    {
     "data": {
      "text/plain": [
       "(5,\n",
       " ['MultipleLines',\n",
       "  'InternetService',\n",
       "  'Contract',\n",
       "  'PaymentMethod',\n",
       "  'tenure_group'])"
      ]
     },
     "execution_count": 8,
     "metadata": {},
     "output_type": "execute_result"
    }
   ],
   "source": [
    "temp = data.select_dtypes(exclude='number')\n",
    "multi_values_cols = list(filter(lambda col: temp[col].nunique()>2, temp.columns))\n",
    "len(multi_values_cols), multi_values_cols"
   ]
  },
  {
   "cell_type": "code",
   "execution_count": 9,
   "metadata": {},
   "outputs": [],
   "source": [
    "data = pd.concat([data, pd.get_dummies(data[multi_values_cols])], axis=1)\n",
    "data = data.drop(data[multi_values_cols], axis=1)"
   ]
  },
  {
   "cell_type": "markdown",
   "metadata": {},
   "source": [
    "## Task-2 Build a churn model"
   ]
  },
  {
   "cell_type": "code",
   "execution_count": 10,
   "metadata": {},
   "outputs": [],
   "source": [
    "X = data.drop('Churn', axis=1).to_numpy()\n",
    "y = data.Churn.to_numpy()"
   ]
  },
  {
   "cell_type": "code",
   "execution_count": 11,
   "metadata": {},
   "outputs": [
    {
     "data": {
      "text/plain": [
       "0.92"
      ]
     },
     "execution_count": 11,
     "metadata": {},
     "output_type": "execute_result"
    }
   ],
   "source": [
    "#RandomForestClassifier\n",
    "model_rf = RandomForestClassifier(random_state=2020)\n",
    "y_true, y_prob, y_pred = np.empty((0,)), np.empty((0,)), np.empty((0,))\n",
    "for train_index, test_index in KFold(n_splits=5).split(X):\n",
    "    X_train, X_test = X[train_index], X[test_index]\n",
    "    y_train, y_test = y[train_index], y[test_index]\n",
    "    model_rf.fit(X_train, y_train)\n",
    "    y_prob = np.concatenate([y_prob, model_rf.predict_proba(X_test)[:,1]])\n",
    "    y_pred = np.concatenate([y_prob, model_rf.predict(X_test)])\n",
    "    y_true = np.concatenate([y_true, y_test])\n",
    "roc_auc_score(y_true, y_prob).round(2)"
   ]
  },
  {
   "cell_type": "code",
   "execution_count": 12,
   "metadata": {},
   "outputs": [
    {
     "data": {
      "text/plain": [
       "0.93"
      ]
     },
     "execution_count": 12,
     "metadata": {},
     "output_type": "execute_result"
    }
   ],
   "source": [
    "#LogisticRegression\n",
    "model_lr = LogisticRegression(max_iter=500)\n",
    "y_true, y_prob, y_pred = np.empty((0,)), np.empty((0,)), np.empty((0,))\n",
    "for train_index, test_index in KFold(n_splits=5).split(X):\n",
    "    X_train, X_test = X[train_index], X[test_index]\n",
    "    y_train, y_test = y[train_index], y[test_index]\n",
    "    model_lr.fit(X_train, y_train)\n",
    "    y_prob = np.concatenate([y_prob, model_lr.predict_proba(X_test)[:,1]])\n",
    "    y_pred = np.concatenate([y_pred, model_lr.predict(X_test)])\n",
    "    y_true = np.concatenate([y_true, y_test])\n",
    "roc_auc_score(y_true, y_prob).round(2)"
   ]
  },
  {
   "cell_type": "markdown",
   "metadata": {},
   "source": [
    "## Task-2 Compare two discount strategies\n",
    "    Strategy A: Provide a 20% discount with a 75% acceptance rate.\n",
    "    Strategy B: Provide a 30% discount with a 90% acceptance rate."
   ]
  },
  {
   "cell_type": "markdown",
   "metadata": {},
   "source": [
    "##### Section-1 Use the default threshold of 0.5 to compute the confusion matrix."
   ]
  },
  {
   "cell_type": "code",
   "execution_count": 13,
   "metadata": {},
   "outputs": [],
   "source": [
    "tp, fn, fp, tn = confusion_matrix(y_true, y_pred, labels=[1,0]).ravel()\n",
    "tp, fn, fp, tn =1426, 443, 219, 3955"
   ]
  },
  {
   "cell_type": "code",
   "execution_count": 14,
   "metadata": {},
   "outputs": [],
   "source": [
    "p = data.MonthlyCharges.mean()"
   ]
  },
  {
   "cell_type": "markdown",
   "metadata": {},
   "source": [
    "###### 2.2 Losses if you do not apply any discount strategy."
   ]
  },
  {
   "cell_type": "code",
   "execution_count": 15,
   "metadata": {},
   "outputs": [
    {
     "data": {
      "text/plain": [
       "117481.16"
      ]
     },
     "execution_count": 15,
     "metadata": {},
     "output_type": "execute_result"
    }
   ],
   "source": [
    "round((tp + fn) * p, 2)"
   ]
  },
  {
   "cell_type": "markdown",
   "metadata": {},
   "source": [
    "###### 2.3 Total gains from the discount strategy B"
   ]
  },
  {
   "cell_type": "code",
   "execution_count": 16,
   "metadata": {},
   "outputs": [
    {
     "data": {
      "text/plain": [
       "80672"
      ]
     },
     "execution_count": 16,
     "metadata": {},
     "output_type": "execute_result"
    }
   ],
   "source": [
    "gain = round(tp * 0.9 * p)\n",
    "gain"
   ]
  },
  {
   "cell_type": "markdown",
   "metadata": {},
   "source": [
    "###### 2.4 Total costs of the discount strategy B."
   ]
  },
  {
   "cell_type": "code",
   "execution_count": 17,
   "metadata": {},
   "outputs": [
    {
     "data": {
      "text/plain": [
       "31020.31"
      ]
     },
     "execution_count": 17,
     "metadata": {},
     "output_type": "execute_result"
    }
   ],
   "source": [
    "cost = round((tp + fp) * 0.3 * p, 2)\n",
    "cost"
   ]
  },
  {
   "cell_type": "markdown",
   "metadata": {},
   "source": [
    "###### 2.5 Total losses of the discount strategy B."
   ]
  },
  {
   "cell_type": "code",
   "execution_count": 18,
   "metadata": {},
   "outputs": [
    {
     "data": {
      "text/plain": [
       "34120.45"
      ]
     },
     "execution_count": 18,
     "metadata": {},
     "output_type": "execute_result"
    }
   ],
   "source": [
    "loss = round(fn * p + tp * (1-0.9) * (1-0.3) * p, 2)\n",
    "loss"
   ]
  },
  {
   "cell_type": "markdown",
   "metadata": {},
   "source": [
    "###### 2.6 Total profit of the discount strategy B."
   ]
  },
  {
   "cell_type": "code",
   "execution_count": 19,
   "metadata": {},
   "outputs": [
    {
     "data": {
      "text/plain": [
       "15531.24"
      ]
     },
     "execution_count": 19,
     "metadata": {},
     "output_type": "execute_result"
    }
   ],
   "source": [
    "profit = gain - cost - loss\n",
    "round(profit, 2)"
   ]
  },
  {
   "cell_type": "markdown",
   "metadata": {},
   "source": [
    "###### 2.7 Profit per customer p_d (using strategy B). "
   ]
  },
  {
   "cell_type": "code",
   "execution_count": 20,
   "metadata": {},
   "outputs": [
    {
     "data": {
      "text/plain": [
       "2.85"
      ]
     },
     "execution_count": 20,
     "metadata": {},
     "output_type": "execute_result"
    }
   ],
   "source": [
    "total_uncharned = 0.9*tp + fp + tn\n",
    "p_d = round(profit/total_uncharned, 2)\n",
    "p_d"
   ]
  },
  {
   "cell_type": "markdown",
   "metadata": {},
   "source": [
    "##### Section-2 Use 9 different thresholds: 0.1, 0.2, … 0.9"
   ]
  },
  {
   "cell_type": "code",
   "execution_count": 21,
   "metadata": {
    "scrolled": true
   },
   "outputs": [],
   "source": [
    "accuracies = []\n",
    "profits = []\n",
    "profits_pc = []\n",
    "for threshold in np.arange(0.1,1,0.1):\n",
    "    new_y_pred = (y_prob > threshold).astype(int)\n",
    "    accuracy = accuracy_score(y_true, new_y_pred)\n",
    "    accuracies.append((threshold, accuracy))\n",
    "    tp, fn, fp, tn = confusion_matrix(y_true, new_y_pred, labels=[1,0]).ravel()\n",
    "    \n",
    "    #Strategy-B\n",
    "    gain = tp * 0.9 * p \n",
    "    loss = fn * p + tp * (1-0.9) * (1-0.3) * p\n",
    "    cost = (tp + fp) * 0.3 * p\n",
    "    profit = gain-cost-loss\n",
    "    profits.append((threshold, profit))\n",
    "    total_uncharned = 0.9*tp + fp + tn\n",
    "    profits_pc.append((threshold, profit/total_uncharned))\n",
    "    "
   ]
  },
  {
   "cell_type": "markdown",
   "metadata": {},
   "source": [
    "###### 2.8 What is the threshold with the highest accuracy, using strategy B?"
   ]
  },
  {
   "cell_type": "code",
   "execution_count": 22,
   "metadata": {},
   "outputs": [
    {
     "data": {
      "text/plain": [
       "0.6"
      ]
     },
     "execution_count": 22,
     "metadata": {},
     "output_type": "execute_result"
    }
   ],
   "source": [
    "max(accuracies, key=lambda x:x[1])[0]"
   ]
  },
  {
   "cell_type": "markdown",
   "metadata": {},
   "source": [
    "###### 2.9 What is the threshold with the highest profit, using strategy B?"
   ]
  },
  {
   "cell_type": "code",
   "execution_count": 23,
   "metadata": {},
   "outputs": [
    {
     "data": {
      "text/plain": [
       "0.2"
      ]
     },
     "execution_count": 23,
     "metadata": {},
     "output_type": "execute_result"
    }
   ],
   "source": [
    "max(profits, key=lambda x:x[1])[0]"
   ]
  },
  {
   "cell_type": "markdown",
   "metadata": {},
   "source": [
    "###### 2.10 What is the highest profit, using strategy B?"
   ]
  },
  {
   "cell_type": "code",
   "execution_count": 24,
   "metadata": {},
   "outputs": [
    {
     "data": {
      "text/plain": [
       "23560.35"
      ]
     },
     "execution_count": 24,
     "metadata": {},
     "output_type": "execute_result"
    }
   ],
   "source": [
    "max(profits, key=lambda x:x[1])[1].round(2)"
   ]
  },
  {
   "cell_type": "markdown",
   "metadata": {},
   "source": [
    "###### 2.11 What is the threshold with the highest profit per customer, using strategy B ?"
   ]
  },
  {
   "cell_type": "code",
   "execution_count": 25,
   "metadata": {},
   "outputs": [
    {
     "data": {
      "text/plain": [
       "0.2"
      ]
     },
     "execution_count": 25,
     "metadata": {},
     "output_type": "execute_result"
    }
   ],
   "source": [
    "max(profits_pc, key=lambda x:x[1])[0]"
   ]
  },
  {
   "cell_type": "markdown",
   "metadata": {},
   "source": [
    "###### 2.12 What is the highest profit per customer, using strategy B ?"
   ]
  },
  {
   "cell_type": "code",
   "execution_count": 26,
   "metadata": {},
   "outputs": [
    {
     "data": {
      "text/plain": [
       "4.15"
      ]
     },
     "execution_count": 26,
     "metadata": {},
     "output_type": "execute_result"
    }
   ],
   "source": [
    "max(profits_pc, key=lambda x:x[1])[1].round(2)"
   ]
  },
  {
   "cell_type": "markdown",
   "metadata": {},
   "source": [
    "###### 2.13 What is the ratio of profit per customer (obtained on the previous step) and p? p_d / p"
   ]
  },
  {
   "cell_type": "code",
   "execution_count": 27,
   "metadata": {},
   "outputs": [
    {
     "data": {
      "text/plain": [
       "0.05"
      ]
     },
     "execution_count": 27,
     "metadata": {},
     "output_type": "execute_result"
    }
   ],
   "source": [
    "round((p_d/ p),2)"
   ]
  },
  {
   "cell_type": "markdown",
   "metadata": {},
   "source": [
    "###### 2.14 Which strategy yields the highest profit (A or B)?"
   ]
  },
  {
   "cell_type": "code",
   "execution_count": 28,
   "metadata": {},
   "outputs": [],
   "source": [
    "def get_details(accp_rate, discount):\n",
    "    res = []\n",
    "    for threshold in np.arange(0.1,1,0.1):\n",
    "        info = {}\n",
    "        new_y_pred = (y_prob > threshold).astype(int)\n",
    "        accuracy = accuracy_score(y_true, new_y_pred)\n",
    "        tp, fn, fp, tn = confusion_matrix(y_true, new_y_pred, labels=[1,0]).ravel()\n",
    "        \n",
    "        #Strategy\n",
    "        gain = tp * accp_rate * p \n",
    "        loss = fn * p + tp * (1-accp_rate) * (1-discount) * p\n",
    "        cost = (tp + fp) * discount * p\n",
    "        profit = gain-cost-loss\n",
    "        total_uncharned = accp_rate*tp + fp + tn\n",
    "        profit_pc =  profit/total_uncharned\n",
    "        \n",
    "        info['threshold'] = threshold\n",
    "        info['accuracy'] = accuracy\n",
    "        info['Conf'] = (tp, fn, fp, tn)\n",
    "        info['profit'] = profit\n",
    "        info['profit_pc'] = profit_pc\n",
    "        \n",
    "        res.append(info)\n",
    "    return res"
   ]
  },
  {
   "cell_type": "code",
   "execution_count": 29,
   "metadata": {},
   "outputs": [],
   "source": [
    "#Strategy-A at different threshold\n",
    "A_result = get_details(0.75, 0.2)\n",
    "\n",
    "#Strategy-B at different threshold\n",
    "B_result= get_details(0.9, 0.3)"
   ]
  },
  {
   "cell_type": "code",
   "execution_count": 30,
   "metadata": {},
   "outputs": [
    {
     "data": {
      "text/plain": [
       "(12338.978493298026, 23560.345995201067)"
      ]
     },
     "execution_count": 30,
     "metadata": {},
     "output_type": "execute_result"
    }
   ],
   "source": [
    "(max(A_result, key=lambda x:x['profit'])['profit'], \n",
    "max(B_result, key=lambda x:x['profit'])['profit'])\n",
    "#Strategy-B"
   ]
  },
  {
   "cell_type": "markdown",
   "metadata": {},
   "source": [
    "###### 2.15 What are the TP, FP, TN, FN in this case? "
   ]
  },
  {
   "cell_type": "code",
   "execution_count": 31,
   "metadata": {},
   "outputs": [
    {
     "data": {
      "text/plain": [
       "(1664, 205, 1007, 3167)"
      ]
     },
     "execution_count": 31,
     "metadata": {},
     "output_type": "execute_result"
    }
   ],
   "source": [
    "#tp, fn, fp, tn\n",
    "max(B_result, key=lambda x:x['profit'])['Conf']"
   ]
  },
  {
   "cell_type": "markdown",
   "metadata": {},
   "source": [
    "###### 2.16 What is the highest profit in that case?"
   ]
  },
  {
   "cell_type": "code",
   "execution_count": 32,
   "metadata": {},
   "outputs": [
    {
     "data": {
      "text/plain": [
       "23560.35"
      ]
     },
     "execution_count": 32,
     "metadata": {},
     "output_type": "execute_result"
    }
   ],
   "source": [
    "max(B_result, key=lambda x:x['profit'])['profit'].round(2)"
   ]
  },
  {
   "cell_type": "markdown",
   "metadata": {},
   "source": [
    "###### 2.17 Which strategy yields the highest profit per customer (A or B)? "
   ]
  },
  {
   "cell_type": "code",
   "execution_count": 33,
   "metadata": {},
   "outputs": [
    {
     "data": {
      "text/plain": [
       "(2.2489708362887133, 4.154091613513129)"
      ]
     },
     "execution_count": 33,
     "metadata": {},
     "output_type": "execute_result"
    }
   ],
   "source": [
    "(max(A_result, key=lambda x:x['profit_pc'])['profit_pc'], \n",
    "max(B_result, key=lambda x:x['profit_pc'])['profit_pc'])\n",
    "#Strategy-B"
   ]
  },
  {
   "cell_type": "markdown",
   "metadata": {},
   "source": [
    "###### 2.18 What are the TP, FP, TN, FN in this case? "
   ]
  },
  {
   "cell_type": "code",
   "execution_count": 34,
   "metadata": {},
   "outputs": [
    {
     "data": {
      "text/plain": [
       "(1664, 205, 1007, 3167)"
      ]
     },
     "execution_count": 34,
     "metadata": {},
     "output_type": "execute_result"
    }
   ],
   "source": [
    "#tp, fn, fp, tn\n",
    "max(B_result, key=lambda x:x['profit_pc'])['Conf']"
   ]
  },
  {
   "cell_type": "markdown",
   "metadata": {},
   "source": [
    "###### 2.19 What is the highest profit in that case?"
   ]
  },
  {
   "cell_type": "code",
   "execution_count": 35,
   "metadata": {},
   "outputs": [
    {
     "data": {
      "text/plain": [
       "4.15"
      ]
     },
     "execution_count": 35,
     "metadata": {},
     "output_type": "execute_result"
    }
   ],
   "source": [
    "max(B_result, key=lambda x:x['profit_pc'])['profit_pc'].round(2)"
   ]
  },
  {
   "cell_type": "markdown",
   "metadata": {},
   "source": [
    "## Report"
   ]
  },
  {
   "cell_type": "code",
   "execution_count": 36,
   "metadata": {},
   "outputs": [
    {
     "data": {
      "image/png": "[encoded data removed]",
      "text/plain": [
       "<Figure size 720x288 with 2 Axes>"
      ]
     },
     "metadata": {
      "needs_background": "light"
     },
     "output_type": "display_data"
    }
   ],
   "source": [
    "fig, ax = plt.subplots(1,2)\n",
    "fig.set_size_inches((10,4))\n",
    "for i, (title, x) in enumerate([('Senior Citizen',data.SeniorCitizen),('Dependents', data.Dependents)]):\n",
    "    ax[i].set_title(\"Distribution of data over the \"+title)\n",
    "    sns.countplot(x = x, ax = ax[i])\n",
    "    ax[i].set_xlabel(title)\n",
    "    ax[i].set_ylabel('Percentage')\n",
    "    norm_fac = len(x)\n",
    "    ylim = 0\n",
    "    for pp in ax[i].patches:\n",
    "        pp.set_height(pp.get_height()*100/norm_fac)\n",
    "        txt = str(pp.get_height().round(2))+'%'\n",
    "        txt_x,txt_y = pp.get_x()+0.1, pp.get_height()\n",
    "        ax[i].text(txt_x, txt_y, txt)\n",
    "        ylim = max(ylim, pp.get_height())+1\n",
    "    ax[i].set_ylim(0,ylim)\n",
    "plt.show()"
   ]
  },
  {
   "cell_type": "code",
   "execution_count": 37,
   "metadata": {},
   "outputs": [
    {
     "data": {
      "text/plain": [
       "<matplotlib.axes._subplots.AxesSubplot at 0x2401b373a88>"
      ]
     },
     "execution_count": 37,
     "metadata": {},
     "output_type": "execute_result"
    },
    {
     "data": {
      "image/png": "[encoded data removed]",
      "text/plain": [
       "<Figure size 432x288 with 1 Axes>"
      ]
     },
     "metadata": {
      "needs_background": "light"
     },
     "output_type": "display_data"
    }
   ],
   "source": [
    "sns.distplot(data.TotalCharges)"
   ]
  },
  {
   "cell_type": "code",
   "execution_count": 38,
   "metadata": {},
   "outputs": [
    {
     "data": {
      "image/png": "[encoded data removed]",
      "text/plain": [
       "<Figure size 288x288 with 2 Axes>"
      ]
     },
     "metadata": {
      "needs_background": "light"
     },
     "output_type": "display_data"
    }
   ],
   "source": [
    "from sklearn.metrics import plot_confusion_matrix\n",
    "class_names = ['YES', 'NO']\n",
    "fig, ax = plt.subplots(figsize=(4, 4))\n",
    "disp = plot_confusion_matrix(model_lr, X, y,\n",
    "                             values_format='d',\n",
    "                             display_labels=class_names,\n",
    "                             labels=[1,0],\n",
    "                             cmap=plt.cm.Blues,\n",
    "                             ax=ax)\n",
    "disp.ax_.set_title(\"Logistic Regression Model\\n Confusion matrix\")\n",
    "plt.show()"
   ]
  },
  {
   "cell_type": "markdown",
   "metadata": {},
   "source": [
    "###### Do thresholds for the highest profit and highest profit per customer coincide or not? Why? "
   ]
  },
  {
   "cell_type": "code",
   "execution_count": 39,
   "metadata": {},
   "outputs": [
    {
     "data": {
      "text/plain": [
       "(0.1, 0.1)"
      ]
     },
     "execution_count": 39,
     "metadata": {},
     "output_type": "execute_result"
    }
   ],
   "source": [
    "(max(A_result,key=lambda x:x['profit'])['threshold'], \n",
    "max(A_result,key=lambda x:x['profit_pc'])['threshold'])"
   ]
  },
  {
   "cell_type": "code",
   "execution_count": 40,
   "metadata": {},
   "outputs": [
    {
     "data": {
      "text/plain": [
       "(0.2, 0.2)"
      ]
     },
     "execution_count": 40,
     "metadata": {},
     "output_type": "execute_result"
    }
   ],
   "source": [
    "(max(B_result,key=lambda x:x['profit'])['threshold'], \n",
    "max(B_result,key=lambda x:x['profit_pc'])['threshold'])"
   ]
  },
  {
   "cell_type": "markdown",
   "metadata": {},
   "source": [
    "Which you decide to choose? Under what circumstances (how many clients will you lose in both situations; what should be the decision criteria)?"
   ]
  },
  {
   "cell_type": "code",
   "execution_count": 41,
   "metadata": {},
   "outputs": [
    {
     "data": {
      "text/html": [
       "<div>\n",
       "<style scoped>\n",
       "    .dataframe tbody tr th:only-of-type {\n",
       "        vertical-align: middle;\n",
       "    }\n",
       "\n",
       "    .dataframe tbody tr th {\n",
       "        vertical-align: top;\n",
       "    }\n",
       "\n",
       "    .dataframe thead th {\n",
       "        text-align: right;\n",
       "    }\n",
       "</style>\n",
       "<table border=\"1\" class=\"dataframe\">\n",
       "  <thead>\n",
       "    <tr style=\"text-align: right;\">\n",
       "      <th></th>\n",
       "      <th>Count of Churned Client</th>\n",
       "    </tr>\n",
       "    <tr>\n",
       "      <th>Threshold</th>\n",
       "      <th></th>\n",
       "    </tr>\n",
       "  </thead>\n",
       "  <tbody>\n",
       "    <tr>\n",
       "      <th>0.1</th>\n",
       "      <td>2187</td>\n",
       "    </tr>\n",
       "    <tr>\n",
       "      <th>0.2</th>\n",
       "      <td>2080</td>\n",
       "    </tr>\n",
       "    <tr>\n",
       "      <th>0.3</th>\n",
       "      <td>1961</td>\n",
       "    </tr>\n",
       "    <tr>\n",
       "      <th>0.4</th>\n",
       "      <td>1881</td>\n",
       "    </tr>\n",
       "    <tr>\n",
       "      <th>0.5</th>\n",
       "      <td>1782</td>\n",
       "    </tr>\n",
       "    <tr>\n",
       "      <th>0.6</th>\n",
       "      <td>1675</td>\n",
       "    </tr>\n",
       "    <tr>\n",
       "      <th>0.7</th>\n",
       "      <td>1545</td>\n",
       "    </tr>\n",
       "    <tr>\n",
       "      <th>0.8</th>\n",
       "      <td>1383</td>\n",
       "    </tr>\n",
       "    <tr>\n",
       "      <th>0.9</th>\n",
       "      <td>1093</td>\n",
       "    </tr>\n",
       "  </tbody>\n",
       "</table>\n",
       "</div>"
      ],
      "text/plain": [
       "           Count of Churned Client\n",
       "Threshold                         \n",
       "0.1                           2187\n",
       "0.2                           2080\n",
       "0.3                           1961\n",
       "0.4                           1881\n",
       "0.5                           1782\n",
       "0.6                           1675\n",
       "0.7                           1545\n",
       "0.8                           1383\n",
       "0.9                           1093"
      ]
     },
     "execution_count": 41,
     "metadata": {},
     "output_type": "execute_result"
    }
   ],
   "source": [
    "columns = ['Threshold', 'Count of Churned Client']\n",
    "stra_A = pd.DataFrame([[i['threshold'], int(i['Conf'][0]*0.25 +i['Conf'][0])]  for i in A_result], columns=columns).set_index('Threshold')\n",
    "stra_B = pd.DataFrame([[i['threshold'], int(i['Conf'][0]*0.1 +i['Conf'][0])]  for i in B_result], columns=columns).set_index('Threshold')\n",
    "stra_A"
   ]
  },
  {
   "cell_type": "markdown",
   "metadata": {},
   "source": [
    "## Bonus"
   ]
  },
  {
   "cell_type": "markdown",
   "metadata": {},
   "source": [
    "##### Section-1 Use the default threshold of 0.5 to compute the confusion matrix."
   ]
  },
  {
   "cell_type": "code",
   "execution_count": 42,
   "metadata": {},
   "outputs": [
    {
     "data": {
      "text/plain": [
       "(1426, 443, 219, 3955)"
      ]
     },
     "execution_count": 42,
     "metadata": {},
     "output_type": "execute_result"
    }
   ],
   "source": [
    "tp, fn, fp, tn = confusion_matrix(y_true, y_pred, labels=[1,0]).ravel()\n",
    "tp, fn, fp, tn"
   ]
  },
  {
   "cell_type": "code",
   "execution_count": 43,
   "metadata": {},
   "outputs": [],
   "source": [
    "#monthly charges for tp, fn, fp, tn\n",
    "tp_MCs = data.iloc[np.argwhere((y_pred==1) & (y_true==1)).reshape((-1,))].MonthlyCharges\n",
    "fn_MCs = data.iloc[np.argwhere((y_pred==0) & (y_true==1)).reshape((-1,))].MonthlyCharges\n",
    "fp_MCs = data.iloc[np.argwhere((y_pred==1) & (y_true==0)).reshape((-1,))].MonthlyCharges\n",
    "tn_MCs = data.iloc[np.argwhere((y_pred==0) & (y_true==0)).reshape((-1,))].MonthlyCharges"
   ]
  },
  {
   "cell_type": "markdown",
   "metadata": {},
   "source": [
    "###### 2.2 Losses if you do not apply any discount strategy."
   ]
  },
  {
   "cell_type": "code",
   "execution_count": 44,
   "metadata": {},
   "outputs": [
    {
     "data": {
      "text/plain": [
       "139130.85"
      ]
     },
     "execution_count": 44,
     "metadata": {},
     "output_type": "execute_result"
    }
   ],
   "source": [
    "round(tp_MCs.sum()+fn_MCs.sum(), 2)"
   ]
  },
  {
   "cell_type": "markdown",
   "metadata": {},
   "source": [
    "###### 2.3 Total gains from the discount strategy B"
   ]
  },
  {
   "cell_type": "code",
   "execution_count": 45,
   "metadata": {},
   "outputs": [
    {
     "data": {
      "text/plain": [
       "99769.4"
      ]
     },
     "execution_count": 45,
     "metadata": {},
     "output_type": "execute_result"
    }
   ],
   "source": [
    "#90% from true positive\n",
    "gain = tp_MCs.sample(frac=0.9, random_state=2020).sum()\n",
    "gain"
   ]
  },
  {
   "cell_type": "markdown",
   "metadata": {},
   "source": [
    "###### 2.4 Total costs of the discount strategy B."
   ]
  },
  {
   "cell_type": "code",
   "execution_count": 46,
   "metadata": {},
   "outputs": [
    {
     "data": {
      "text/plain": [
       "37972.17"
      ]
     },
     "execution_count": 46,
     "metadata": {},
     "output_type": "execute_result"
    }
   ],
   "source": [
    "cost = (tp_MCs.sum()+fp_MCs.sum())*0.3\n",
    "cost"
   ]
  },
  {
   "cell_type": "markdown",
   "metadata": {},
   "source": [
    "###### 2.5 Total losses of the discount strategy B."
   ]
  },
  {
   "cell_type": "code",
   "execution_count": 47,
   "metadata": {},
   "outputs": [
    {
     "data": {
      "text/plain": [
       "36012.560000000005"
      ]
     },
     "execution_count": 47,
     "metadata": {},
     "output_type": "execute_result"
    }
   ],
   "source": [
    "loss = fn_MCs.sum() + tp_MCs.sample(frac=1-0.9, random_state=2020).sum() * (1-0.3)\n",
    "loss"
   ]
  },
  {
   "cell_type": "markdown",
   "metadata": {},
   "source": [
    "###### 2.6 Total profit of the discount strategy B."
   ]
  },
  {
   "cell_type": "code",
   "execution_count": 48,
   "metadata": {},
   "outputs": [
    {
     "data": {
      "text/plain": [
       "25784.67"
      ]
     },
     "execution_count": 48,
     "metadata": {},
     "output_type": "execute_result"
    }
   ],
   "source": [
    "profit = gain - cost - loss\n",
    "profit.round(2)"
   ]
  },
  {
   "cell_type": "markdown",
   "metadata": {},
   "source": [
    "###### 2.7 Profit per customer p_d (using strategy B). "
   ]
  },
  {
   "cell_type": "code",
   "execution_count": 49,
   "metadata": {},
   "outputs": [
    {
     "data": {
      "text/plain": [
       "4.72"
      ]
     },
     "execution_count": 49,
     "metadata": {},
     "output_type": "execute_result"
    }
   ],
   "source": [
    "total_uncharned = 0.9*tp + fp + tn\n",
    "p_d = round(profit/total_uncharned, 2)\n",
    "p_d"
   ]
  },
  {
   "cell_type": "markdown",
   "metadata": {},
   "source": [
    "##### Section-2 Use 9 different thresholds: 0.1, 0.2, … 0.9"
   ]
  },
  {
   "cell_type": "code",
   "execution_count": 50,
   "metadata": {},
   "outputs": [],
   "source": [
    "accuracies = []\n",
    "profits = []\n",
    "profits_pc = []\n",
    "for threshold in np.arange(0.1,1,0.1):\n",
    "    new_y_pred = (y_prob > threshold).astype(int)\n",
    "    accuracy = accuracy_score(y_true, new_y_pred)\n",
    "    accuracies.append((threshold, accuracy))\n",
    "    tp, fn, fp, tn = confusion_matrix(y_true, new_y_pred, labels=[1,0]).ravel()\n",
    "\n",
    "    #monthly charges for tp, fn, fp, tn\n",
    "    tp_MCs = data.iloc[np.argwhere((y_pred==1) & (y_true==1)).reshape((-1,))].MonthlyCharges\n",
    "    fn_MCs = data.iloc[np.argwhere((y_pred==0) & (y_true==1)).reshape((-1,))].MonthlyCharges\n",
    "    fp_MCs = data.iloc[np.argwhere((y_pred==1) & (y_true==0)).reshape((-1,))].MonthlyCharges\n",
    "    tn_MCs = data.iloc[np.argwhere((y_pred==0) & (y_true==0)).reshape((-1,))].MonthlyCharges\n",
    "    \n",
    "    #Strategy-B\n",
    "    gain = tp_MCs.sample(frac=0.9, random_state=2020).sum()\n",
    "    loss = fn_MCs.sum() + tp_MCs.sample(frac=1-0.9, random_state=2020).sum() * (1-0.3)\n",
    "    cost = (tp_MCs.sum()+fp_MCs.sum())*0.3\n",
    "    profit = gain-cost-loss\n",
    "    profits.append((threshold, profit))\n",
    "    total_uncharned = 0.9*tp + fp + tn\n",
    "    profits_pc.append((threshold, profit/total_uncharned))"
   ]
  },
  {
   "cell_type": "markdown",
   "metadata": {},
   "source": [
    "###### 2.8 What is the threshold with the highest accuracy, using strategy B?"
   ]
  },
  {
   "cell_type": "code",
   "execution_count": 51,
   "metadata": {},
   "outputs": [
    {
     "data": {
      "text/plain": [
       "0.6"
      ]
     },
     "execution_count": 51,
     "metadata": {},
     "output_type": "execute_result"
    }
   ],
   "source": [
    "max(accuracies, key=lambda x:x[1])[0]"
   ]
  },
  {
   "cell_type": "markdown",
   "metadata": {},
   "source": [
    "###### 2.9 What is the threshold with the highest profit, using strategy B?"
   ]
  },
  {
   "cell_type": "code",
   "execution_count": 52,
   "metadata": {},
   "outputs": [
    {
     "data": {
      "text/plain": [
       "0.1"
      ]
     },
     "execution_count": 52,
     "metadata": {},
     "output_type": "execute_result"
    }
   ],
   "source": [
    "max(profits, key=lambda x:x[1])[0]"
   ]
  },
  {
   "cell_type": "markdown",
   "metadata": {},
   "source": [
    "###### 2.10 What is the highest profit, using strategy B?"
   ]
  },
  {
   "cell_type": "code",
   "execution_count": 53,
   "metadata": {},
   "outputs": [
    {
     "data": {
      "text/plain": [
       "25784.67"
      ]
     },
     "execution_count": 53,
     "metadata": {},
     "output_type": "execute_result"
    }
   ],
   "source": [
    "max(profits, key=lambda x:x[1])[1].round(2)"
   ]
  },
  {
   "cell_type": "markdown",
   "metadata": {},
   "source": [
    "###### 2.11 What is the threshold with the highest profit per customer, using strategy B ?"
   ]
  },
  {
   "cell_type": "code",
   "execution_count": 54,
   "metadata": {},
   "outputs": [
    {
     "data": {
      "text/plain": [
       "0.9"
      ]
     },
     "execution_count": 54,
     "metadata": {},
     "output_type": "execute_result"
    }
   ],
   "source": [
    "max(profits_pc, key=lambda x:x[1])[0]"
   ]
  },
  {
   "cell_type": "markdown",
   "metadata": {},
   "source": [
    "###### 2.12 What is the highest profit per customer, using strategy B ?"
   ]
  },
  {
   "cell_type": "code",
   "execution_count": 55,
   "metadata": {},
   "outputs": [
    {
     "data": {
      "text/plain": [
       "5.2"
      ]
     },
     "execution_count": 55,
     "metadata": {},
     "output_type": "execute_result"
    }
   ],
   "source": [
    "max(profits_pc, key=lambda x:x[1])[1].round(2)"
   ]
  },
  {
   "cell_type": "markdown",
   "metadata": {},
   "source": [
    "###### 2.13 What is the ratio of profit per customer (obtained on the previous step) and p? p_d / p"
   ]
  },
  {
   "cell_type": "code",
   "execution_count": 56,
   "metadata": {},
   "outputs": [
    {
     "data": {
      "text/plain": [
       "0.07509017059258609"
      ]
     },
     "execution_count": 56,
     "metadata": {},
     "output_type": "execute_result"
    }
   ],
   "source": [
    "p_d / p"
   ]
  },
  {
   "cell_type": "markdown",
   "metadata": {},
   "source": [
    "###### 2.14 Which strategy yields the highest profit (A or B)?"
   ]
  },
  {
   "cell_type": "code",
   "execution_count": 57,
   "metadata": {},
   "outputs": [],
   "source": [
    "def get_details(accp_rate, discount):\n",
    "    res = []\n",
    "    for threshold in np.arange(0.1,1,0.1):\n",
    "        info = {}\n",
    "        new_y_pred = (y_prob > threshold).astype(int)\n",
    "        accuracy = accuracy_score(y_true, new_y_pred)\n",
    "        tp, fn, fp, tn = confusion_matrix(y_true, new_y_pred, labels=[1,0]).ravel()\n",
    "        \n",
    "        #monthly charges for tp, fn, fp, tn\n",
    "        tp_MCs = data.iloc[np.argwhere((y_pred==1) & (y_true==1)).reshape((-1,))].MonthlyCharges\n",
    "        fn_MCs = data.iloc[np.argwhere((y_pred==0) & (y_true==1)).reshape((-1,))].MonthlyCharges\n",
    "        fp_MCs = data.iloc[np.argwhere((y_pred==1) & (y_true==0)).reshape((-1,))].MonthlyCharges\n",
    "        tn_MCs = data.iloc[np.argwhere((y_pred==0) & (y_true==0)).reshape((-1,))].MonthlyCharges\n",
    "\n",
    "        #Strategy\n",
    "        gain = tp_MCs.sample(frac=accp_rate, random_state=2020).sum()\n",
    "        loss = fn_MCs.sum() + tp_MCs.sample(frac=1-accp_rate, random_state=2020).sum() * (1-discount)\n",
    "        cost = (tp_MCs.sum()+fp_MCs.sum())*discount\n",
    "        profit = gain-cost-loss\n",
    "        total_uncharned = accp_rate*tp + fp + tn\n",
    "        profit_pc = profit/total_uncharned\n",
    "        \n",
    "        info['threshold'] = threshold\n",
    "        info['accuracy'] = accuracy\n",
    "        info['Conf'] = (tp, fn, fp, tn)\n",
    "        info['Conf_Monthly'] = (tp_MCs, fn_MCs, fp_MCs, tn_MCs)\n",
    "        info['profit'] = profit\n",
    "        info['profit_pc'] = profit_pc\n",
    "        res.append(info)\n",
    "        \n",
    "    return res"
   ]
  },
  {
   "cell_type": "code",
   "execution_count": 58,
   "metadata": {},
   "outputs": [],
   "source": [
    "#Strategy-A at different threshold\n",
    "A_result = get_details(0.75, 0.2)\n",
    "\n",
    "#Strategy-B at different threshold\n",
    "B_result= get_details(0.9, 0.3)"
   ]
  },
  {
   "cell_type": "code",
   "execution_count": 59,
   "metadata": {},
   "outputs": [
    {
     "data": {
      "text/plain": [
       "(7676.929999999993, 25784.66999999999)"
      ]
     },
     "execution_count": 59,
     "metadata": {},
     "output_type": "execute_result"
    }
   ],
   "source": [
    "(max(A_result, key=lambda x:x['profit'])['profit'], \n",
    "max(B_result, key=lambda x:x['profit'])['profit'])\n",
    "#Strategy-B"
   ]
  },
  {
   "cell_type": "markdown",
   "metadata": {},
   "source": [
    "###### 2.15 What are the TP, FP, TN, FN in this case? "
   ]
  },
  {
   "cell_type": "code",
   "execution_count": 60,
   "metadata": {},
   "outputs": [
    {
     "data": {
      "text/plain": [
       "(1750, 119, 1486, 2688)"
      ]
     },
     "execution_count": 60,
     "metadata": {},
     "output_type": "execute_result"
    }
   ],
   "source": [
    "#tp, fn, fp, tn\n",
    "max(B_result, key=lambda x:x['profit'])['Conf']"
   ]
  },
  {
   "cell_type": "markdown",
   "metadata": {},
   "source": [
    "###### 2.16 What is the highest profit in that case?"
   ]
  },
  {
   "cell_type": "code",
   "execution_count": 61,
   "metadata": {},
   "outputs": [
    {
     "data": {
      "text/plain": [
       "25784.66999999999"
      ]
     },
     "execution_count": 61,
     "metadata": {},
     "output_type": "execute_result"
    }
   ],
   "source": [
    "max(B_result, key=lambda x:x['profit'])['profit']"
   ]
  },
  {
   "cell_type": "markdown",
   "metadata": {},
   "source": [
    "###### 2.17 Which strategy yields the highest profit per customer (A or B)? "
   ]
  },
  {
   "cell_type": "code",
   "execution_count": 62,
   "metadata": {},
   "outputs": [
    {
     "data": {
      "text/plain": [
       "(1.5893442368407418, 5.196950518996269)"
      ]
     },
     "execution_count": 62,
     "metadata": {},
     "output_type": "execute_result"
    }
   ],
   "source": [
    "(max(A_result, key=lambda x:x['profit_pc'])['profit_pc'], \n",
    "max(B_result, key=lambda x:x['profit_pc'])['profit_pc'])\n",
    "#Strategy-B"
   ]
  },
  {
   "cell_type": "markdown",
   "metadata": {},
   "source": [
    "###### 2.18 What are the TP, FP, TN, FN in this case? "
   ]
  },
  {
   "cell_type": "code",
   "execution_count": 63,
   "metadata": {},
   "outputs": [
    {
     "data": {
      "text/plain": [
       "(875, 994, 0, 4174)"
      ]
     },
     "execution_count": 63,
     "metadata": {},
     "output_type": "execute_result"
    }
   ],
   "source": [
    "#tp, fn, fp, tn\n",
    "max(B_result, key=lambda x:x['profit_pc'])['Conf']"
   ]
  },
  {
   "cell_type": "markdown",
   "metadata": {},
   "source": [
    "###### 2.19 What is the highest profit in that case?"
   ]
  },
  {
   "cell_type": "code",
   "execution_count": 64,
   "metadata": {},
   "outputs": [
    {
     "data": {
      "text/plain": [
       "5.196950518996269"
      ]
     },
     "execution_count": 64,
     "metadata": {},
     "output_type": "execute_result"
    }
   ],
   "source": [
    "max(B_result, key=lambda x:x['profit_pc'])['profit_pc']"
   ]
  },
  {
   "cell_type": "markdown",
   "metadata": {},
   "source": [
    "#### Report"
   ]
  },
  {
   "cell_type": "markdown",
   "metadata": {},
   "source": [
    "###### Do thresholds for the highest profit and highest profit per customer coincide or not? Why? "
   ]
  },
  {
   "cell_type": "code",
   "execution_count": 65,
   "metadata": {},
   "outputs": [
    {
     "data": {
      "text/plain": [
       "(0.1, 0.9)"
      ]
     },
     "execution_count": 65,
     "metadata": {},
     "output_type": "execute_result"
    }
   ],
   "source": [
    "(max(A_result,key=lambda x:x['profit'])['threshold'], \n",
    "max(A_result,key=lambda x:x['profit_pc'])['threshold'])"
   ]
  },
  {
   "cell_type": "code",
   "execution_count": 66,
   "metadata": {},
   "outputs": [
    {
     "data": {
      "text/plain": [
       "(0.1, 0.9)"
      ]
     },
     "execution_count": 66,
     "metadata": {},
     "output_type": "execute_result"
    }
   ],
   "source": [
    "(max(B_result,key=lambda x:x['profit'])['threshold'], \n",
    "max(B_result,key=lambda x:x['profit_pc'])['threshold'])"
   ]
  },
  {
   "cell_type": "markdown",
   "metadata": {},
   "source": [
    "Which you decide to choose? Under what circumstances (how many clients will you lose in both situations; what should be the decision criteria)?"
   ]
  },
  {
   "cell_type": "code",
   "execution_count": 67,
   "metadata": {},
   "outputs": [
    {
     "data": {
      "text/html": [
       "<div>\n",
       "<style scoped>\n",
       "    .dataframe tbody tr th:only-of-type {\n",
       "        vertical-align: middle;\n",
       "    }\n",
       "\n",
       "    .dataframe tbody tr th {\n",
       "        vertical-align: top;\n",
       "    }\n",
       "\n",
       "    .dataframe thead th {\n",
       "        text-align: right;\n",
       "    }\n",
       "</style>\n",
       "<table border=\"1\" class=\"dataframe\">\n",
       "  <thead>\n",
       "    <tr style=\"text-align: right;\">\n",
       "      <th></th>\n",
       "      <th>Count of Churned Client</th>\n",
       "    </tr>\n",
       "    <tr>\n",
       "      <th>Threshold</th>\n",
       "      <th></th>\n",
       "    </tr>\n",
       "  </thead>\n",
       "  <tbody>\n",
       "    <tr>\n",
       "      <th>0.1</th>\n",
       "      <td>1925</td>\n",
       "    </tr>\n",
       "    <tr>\n",
       "      <th>0.2</th>\n",
       "      <td>1830</td>\n",
       "    </tr>\n",
       "    <tr>\n",
       "      <th>0.3</th>\n",
       "      <td>1725</td>\n",
       "    </tr>\n",
       "    <tr>\n",
       "      <th>0.4</th>\n",
       "      <td>1655</td>\n",
       "    </tr>\n",
       "    <tr>\n",
       "      <th>0.5</th>\n",
       "      <td>1568</td>\n",
       "    </tr>\n",
       "    <tr>\n",
       "      <th>0.6</th>\n",
       "      <td>1474</td>\n",
       "    </tr>\n",
       "    <tr>\n",
       "      <th>0.7</th>\n",
       "      <td>1359</td>\n",
       "    </tr>\n",
       "    <tr>\n",
       "      <th>0.8</th>\n",
       "      <td>1217</td>\n",
       "    </tr>\n",
       "    <tr>\n",
       "      <th>0.9</th>\n",
       "      <td>962</td>\n",
       "    </tr>\n",
       "  </tbody>\n",
       "</table>\n",
       "</div>"
      ],
      "text/plain": [
       "           Count of Churned Client\n",
       "Threshold                         \n",
       "0.1                           1925\n",
       "0.2                           1830\n",
       "0.3                           1725\n",
       "0.4                           1655\n",
       "0.5                           1568\n",
       "0.6                           1474\n",
       "0.7                           1359\n",
       "0.8                           1217\n",
       "0.9                            962"
      ]
     },
     "execution_count": 67,
     "metadata": {},
     "output_type": "execute_result"
    }
   ],
   "source": [
    "columns = ['Threshold', 'Count of Churned Client']\n",
    "stra_A = pd.DataFrame([[i['threshold'], int(i['Conf'][0]*0.25 +i['Conf'][0])]  for i in A_result], columns=columns).set_index('Threshold')\n",
    "stra_B = pd.DataFrame([[i['threshold'], int(i['Conf'][0]*0.1 +i['Conf'][0])]  for i in B_result], columns=columns).set_index('Threshold')\n",
    "stra_B"
   ]
  },
  {
   "cell_type": "code",
   "execution_count": 68,
   "metadata": {},
   "outputs": [
    {
     "data": {
      "text/plain": [
       "<matplotlib.axes._subplots.AxesSubplot at 0x24022504548>"
      ]
     },
     "execution_count": 68,
     "metadata": {},
     "output_type": "execute_result"
    },
    {
     "data": {
      "image/png": "[encoded data removed]",
      "text/plain": [
       "<Figure size 432x288 with 2 Axes>"
      ]
     },
     "metadata": {
      "needs_background": "light"
     },
     "output_type": "display_data"
    }
   ],
   "source": [
    "fig, ax = plt.subplots(1,2)\n",
    "sns.lineplot([i['threshold'] for i in A_result],[i['accuracy'] for i in A_result], ax=ax[0], label=\"Strategy-A\")\n",
    "sns.lineplot([i['threshold'] for i in A_result],[i['accuracy'] for i in B_result], ax=ax[1], label=\"Strategy-B\")"
   ]
  },
  {
   "cell_type": "code",
   "execution_count": 69,
   "metadata": {},
   "outputs": [
    {
     "data": {
      "text/plain": [
       "<matplotlib.axes._subplots.AxesSubplot at 0x240225d6b48>"
      ]
     },
     "execution_count": 69,
     "metadata": {},
     "output_type": "execute_result"
    },
    {
     "data": {
      "image/png": "[encoded data removed]",
      "text/plain": [
       "<Figure size 432x288 with 2 Axes>"
      ]
     },
     "metadata": {
      "needs_background": "light"
     },
     "output_type": "display_data"
    }
   ],
   "source": [
    "fig, ax = plt.subplots(1,2)\n",
    "sns.lineplot([i['threshold'] for i in A_result],[i['profit_pc'] for i in A_result], ax=ax[0], label=\"Strategy-A\")\n",
    "sns.lineplot([i['threshold'] for i in A_result],[i['profit_pc'] for i in B_result], ax=ax[1], label=\"Strategy-B\")"
   ]
  },
  {
   "cell_type": "code",
   "execution_count": null,
   "metadata": {},
   "outputs": [],
   "source": []
  },
  {
   "cell_type": "code",
   "execution_count": null,
   "metadata": {},
   "outputs": [],
   "source": []
  },
  {
   "cell_type": "code",
   "execution_count": null,
   "metadata": {},
   "outputs": [],
   "source": []
  },
  {
   "cell_type": "code",
   "execution_count": null,
   "metadata": {},
   "outputs": [],
   "source": []
  },
  {
   "cell_type": "code",
   "execution_count": null,
   "metadata": {},
   "outputs": [],
   "source": []
  },
  {
   "cell_type": "code",
   "execution_count": null,
   "metadata": {},
   "outputs": [],
   "source": []
  },
  {
   "cell_type": "code",
   "execution_count": null,
   "metadata": {},
   "outputs": [],
   "source": []
  },
  {
   "cell_type": "code",
   "execution_count": null,
   "metadata": {},
   "outputs": [],
   "source": []
  },
  {
   "cell_type": "code",
   "execution_count": null,
   "metadata": {},
   "outputs": [],
   "source": []
  },
  {
   "cell_type": "code",
   "execution_count": null,
   "metadata": {},
   "outputs": [],
   "source": []
  },
  {
   "cell_type": "code",
   "execution_count": null,
   "metadata": {},
   "outputs": [],
   "source": []
  },
  {
   "cell_type": "code",
   "execution_count": null,
   "metadata": {},
   "outputs": [],
   "source": []
  }
 ],
 "metadata": {
  "kernelspec": {
   "display_name": "Python 3",
   "language": "python",
   "name": "python3"
  },
  "language_info": {
   "codemirror_mode": {
    "name": "ipython",
    "version": 3
   },
   "file_extension": ".py",
   "mimetype": "text/x-python",
   "name": "python",
   "nbconvert_exporter": "python",
   "pygments_lexer": "ipython3",
   "version": "3.7.6"
  }
 },
 "nbformat": 4,
 "nbformat_minor": 4
}
